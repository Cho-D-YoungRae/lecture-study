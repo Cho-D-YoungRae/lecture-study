{
 "cells": [
  {
   "metadata": {
    "ExecuteTime": {
     "end_time": "2025-10-10T02:59:23.765139Z",
     "start_time": "2025-10-10T02:59:23.742368Z"
    }
   },
   "cell_type": "code",
   "source": [
    "from dotenv import load_dotenv\n",
    "\n",
    "load_dotenv()"
   ],
   "id": "a2f8b6363d21dfa9",
   "outputs": [
    {
     "data": {
      "text/plain": [
       "True"
      ]
     },
     "execution_count": 3,
     "metadata": {},
     "output_type": "execute_result"
    }
   ],
   "execution_count": 3
  },
  {
   "metadata": {
    "ExecuteTime": {
     "end_time": "2025-10-10T03:00:34.259041Z",
     "start_time": "2025-10-10T03:00:33.623348Z"
    }
   },
   "cell_type": "code",
   "source": [
    "from langchain_upstage import ChatUpstage\n",
    "\n",
    "llm = ChatUpstage(model='solar-pro2')\n",
    "\n",
    "small_llm = ChatUpstage(model='solar-mini')\n"
   ],
   "id": "f1f56f130260ef4b",
   "outputs": [],
   "execution_count": 4
  },
  {
   "cell_type": "code",
   "id": "initial_id",
   "metadata": {
    "collapsed": true,
    "ExecuteTime": {
     "end_time": "2025-10-10T02:58:27.992391Z",
     "start_time": "2025-10-10T02:58:27.439210Z"
    }
   },
   "source": [
    "from langchain_core.tools import tool\n",
    "\n",
    "@tool\n",
    "def add(a: int, b: int) -> int:\n",
    "    \"\"\"숫자 a와 b를 더합니다.\"\"\"\n",
    "    return a + b\n",
    "\n",
    "@tool\n",
    "def multiply(a: int, b: int) -> int:\n",
    "    \"\"\"숫자 a와 b를 곱합니다.\"\"\"\n",
    "    return a * b"
   ],
   "outputs": [],
   "execution_count": 1
  },
  {
   "metadata": {
    "ExecuteTime": {
     "end_time": "2025-10-10T02:59:01.799497Z",
     "start_time": "2025-10-10T02:59:01.772540Z"
    }
   },
   "cell_type": "code",
   "source": "add.invoke({'a': 5, 'b': 3})",
   "id": "26edbef2316ff5ae",
   "outputs": [
    {
     "data": {
      "text/plain": [
       "8"
      ]
     },
     "execution_count": 2,
     "metadata": {},
     "output_type": "execute_result"
    }
   ],
   "execution_count": 2
  },
  {
   "metadata": {
    "ExecuteTime": {
     "end_time": "2025-10-10T03:02:00.834958Z",
     "start_time": "2025-10-10T03:02:00.806653Z"
    }
   },
   "cell_type": "code",
   "source": "llm_with_tools = small_llm.bind_tools([add, multiply])",
   "id": "c7b7face12517469",
   "outputs": [],
   "execution_count": 6
  },
  {
   "metadata": {
    "ExecuteTime": {
     "end_time": "2025-10-10T03:02:22.078197Z",
     "start_time": "2025-10-10T03:02:22.065563Z"
    }
   },
   "cell_type": "code",
   "source": "query = '3 곱하기 5는?'",
   "id": "b5fe58aad79cab4d",
   "outputs": [],
   "execution_count": 7
  },
  {
   "metadata": {
    "ExecuteTime": {
     "end_time": "2025-10-10T03:02:27.578448Z",
     "start_time": "2025-10-10T03:02:26.318394Z"
    }
   },
   "cell_type": "code",
   "source": "small_llm.invoke(query)",
   "id": "19c7994a9b9849b1",
   "outputs": [
    {
     "data": {
      "text/plain": [
       "AIMessage(content='3 곱하기 5는 15입니다. (3 × 5 = 15)', additional_kwargs={'refusal': None}, response_metadata={'token_usage': {'completion_tokens': 22, 'prompt_tokens': 17, 'total_tokens': 39, 'completion_tokens_details': {'accepted_prediction_tokens': 0, 'audio_tokens': 0, 'reasoning_tokens': 0, 'rejected_prediction_tokens': 0}, 'prompt_tokens_details': {'audio_tokens': 0, 'cached_tokens': 0}}, 'model_name': 'solar-mini-250422', 'system_fingerprint': None, 'id': '01f1ea28-6f82-4481-b4ab-1f7b7ca247a9', 'service_tier': None, 'finish_reason': 'stop', 'logprobs': None}, id='run--ec853d89-b006-4b07-b352-65029895fd70-0', usage_metadata={'input_tokens': 17, 'output_tokens': 22, 'total_tokens': 39, 'input_token_details': {'audio': 0, 'cache_read': 0}, 'output_token_details': {'audio': 0, 'reasoning': 0}})"
      ]
     },
     "execution_count": 8,
     "metadata": {},
     "output_type": "execute_result"
    }
   ],
   "execution_count": 8
  },
  {
   "metadata": {
    "ExecuteTime": {
     "end_time": "2025-10-10T03:02:58.885705Z",
     "start_time": "2025-10-10T03:02:57.218947Z"
    }
   },
   "cell_type": "code",
   "source": [
    "result = llm_with_tools.invoke(query)\n",
    "result"
   ],
   "id": "78031d3e339a7e28",
   "outputs": [
    {
     "data": {
      "text/plain": [
       "AIMessage(content='', additional_kwargs={'tool_calls': [{'id': 'a3a3b890-b411-4ae4-afa0-154cf5fca087', 'function': {'arguments': '{\"a\":3,\"b\":5}', 'name': 'multiply'}, 'type': 'function'}], 'refusal': None}, response_metadata={'token_usage': {'completion_tokens': 69, 'prompt_tokens': 326, 'total_tokens': 395, 'completion_tokens_details': {'accepted_prediction_tokens': 0, 'audio_tokens': 0, 'reasoning_tokens': 0, 'rejected_prediction_tokens': 0}, 'prompt_tokens_details': {'audio_tokens': 0, 'cached_tokens': 0}}, 'model_name': 'solar-mini-250422', 'system_fingerprint': None, 'id': '11b9923d-ca5c-4010-b0ac-2d02a12f5a68', 'service_tier': None, 'finish_reason': 'tool_calls', 'logprobs': None}, id='run--a1bfa82f-41bf-4b43-9e53-5a0b987d6b44-0', tool_calls=[{'name': 'multiply', 'args': {'a': 3, 'b': 5}, 'id': 'a3a3b890-b411-4ae4-afa0-154cf5fca087', 'type': 'tool_call'}], usage_metadata={'input_tokens': 326, 'output_tokens': 69, 'total_tokens': 395, 'input_token_details': {'audio': 0, 'cache_read': 0}, 'output_token_details': {'audio': 0, 'reasoning': 0}})"
      ]
     },
     "execution_count": 10,
     "metadata": {},
     "output_type": "execute_result"
    }
   ],
   "execution_count": 10
  },
  {
   "metadata": {
    "ExecuteTime": {
     "end_time": "2025-10-10T03:03:05.424755Z",
     "start_time": "2025-10-10T03:03:05.404001Z"
    }
   },
   "cell_type": "code",
   "source": "result.tool_calls",
   "id": "b597b5f46caa4c72",
   "outputs": [
    {
     "data": {
      "text/plain": [
       "[{'name': 'multiply',\n",
       "  'args': {'a': 3, 'b': 5},\n",
       "  'id': 'a3a3b890-b411-4ae4-afa0-154cf5fca087',\n",
       "  'type': 'tool_call'}]"
      ]
     },
     "execution_count": 11,
     "metadata": {},
     "output_type": "execute_result"
    }
   ],
   "execution_count": 11
  },
  {
   "metadata": {
    "ExecuteTime": {
     "end_time": "2025-10-10T03:12:01.666714Z",
     "start_time": "2025-10-10T03:12:01.659163Z"
    }
   },
   "cell_type": "code",
   "source": [
    "from typing import Sequence\n",
    "\n",
    "from langchain_core.messages import AnyMessage, HumanMessage\n",
    "\n",
    "human_message = HumanMessage(query)\n",
    "message_list: Sequence[AnyMessage] = [human_message]"
   ],
   "id": "e7e0a8da59fecfc7",
   "outputs": [],
   "execution_count": 12
  },
  {
   "metadata": {
    "ExecuteTime": {
     "end_time": "2025-10-10T03:12:04.868358Z",
     "start_time": "2025-10-10T03:12:02.554839Z"
    }
   },
   "cell_type": "code",
   "source": [
    "ai_message = llm_with_tools.invoke(message_list)\n",
    "ai_message"
   ],
   "id": "f6b65b6f1983ac2c",
   "outputs": [
    {
     "data": {
      "text/plain": [
       "AIMessage(content='', additional_kwargs={'tool_calls': [{'id': '297008ee-0863-497b-bf32-55826a8ceb8a', 'function': {'arguments': '{\"a\":3,\"b\":5}', 'name': 'multiply'}, 'type': 'function'}], 'refusal': None}, response_metadata={'token_usage': {'completion_tokens': 69, 'prompt_tokens': 327, 'total_tokens': 396, 'completion_tokens_details': {'accepted_prediction_tokens': 0, 'audio_tokens': 0, 'reasoning_tokens': 0, 'rejected_prediction_tokens': 0}, 'prompt_tokens_details': {'audio_tokens': 0, 'cached_tokens': 0}}, 'model_name': 'solar-mini-250422', 'system_fingerprint': None, 'id': '6593de76-e170-4260-950c-5e411fe5fa6d', 'service_tier': None, 'finish_reason': 'tool_calls', 'logprobs': None}, id='run--0b7238c4-aa8c-45d6-8cf8-46c295fa221f-0', tool_calls=[{'name': 'multiply', 'args': {'a': 3, 'b': 5}, 'id': '297008ee-0863-497b-bf32-55826a8ceb8a', 'type': 'tool_call'}], usage_metadata={'input_tokens': 327, 'output_tokens': 69, 'total_tokens': 396, 'input_token_details': {'audio': 0, 'cache_read': 0}, 'output_token_details': {'audio': 0, 'reasoning': 0}})"
      ]
     },
     "execution_count": 13,
     "metadata": {},
     "output_type": "execute_result"
    }
   ],
   "execution_count": 13
  },
  {
   "metadata": {
    "ExecuteTime": {
     "end_time": "2025-10-10T03:12:10.602954Z",
     "start_time": "2025-10-10T03:12:10.584364Z"
    }
   },
   "cell_type": "code",
   "source": "ai_message.tool_calls",
   "id": "793e617d45d3157d",
   "outputs": [
    {
     "data": {
      "text/plain": [
       "[{'name': 'multiply',\n",
       "  'args': {'a': 3, 'b': 5},\n",
       "  'id': '297008ee-0863-497b-bf32-55826a8ceb8a',\n",
       "  'type': 'tool_call'}]"
      ]
     },
     "execution_count": 14,
     "metadata": {},
     "output_type": "execute_result"
    }
   ],
   "execution_count": 14
  },
  {
   "metadata": {
    "ExecuteTime": {
     "end_time": "2025-10-10T03:12:30.097951Z",
     "start_time": "2025-10-10T03:12:30.085821Z"
    }
   },
   "cell_type": "code",
   "source": "message_list.append(ai_message)",
   "id": "bd776eb76297d1e3",
   "outputs": [],
   "execution_count": 15
  },
  {
   "metadata": {
    "ExecuteTime": {
     "end_time": "2025-10-10T03:12:47.998495Z",
     "start_time": "2025-10-10T03:12:47.978357Z"
    }
   },
   "cell_type": "code",
   "source": [
    "tool_message = multiply.invoke(ai_message.tool_calls[0])\n",
    "tool_message"
   ],
   "id": "65eff3b464f2f398",
   "outputs": [
    {
     "data": {
      "text/plain": [
       "ToolMessage(content='15', name='multiply', tool_call_id='297008ee-0863-497b-bf32-55826a8ceb8a')"
      ]
     },
     "execution_count": 16,
     "metadata": {},
     "output_type": "execute_result"
    }
   ],
   "execution_count": 16
  },
  {
   "metadata": {
    "ExecuteTime": {
     "end_time": "2025-10-10T03:13:02.054659Z",
     "start_time": "2025-10-10T03:13:02.046949Z"
    }
   },
   "cell_type": "code",
   "source": "message_list.append(tool_message)",
   "id": "3e2b03d2b764d2ac",
   "outputs": [],
   "execution_count": 17
  },
  {
   "metadata": {
    "ExecuteTime": {
     "end_time": "2025-10-10T03:13:10.605315Z",
     "start_time": "2025-10-10T03:13:09.980886Z"
    }
   },
   "cell_type": "code",
   "source": "llm_with_tools.invoke(message_list)",
   "id": "9cd003e0160eae0",
   "outputs": [
    {
     "data": {
      "text/plain": [
       "AIMessage(content='3 곱하기 5는 15입니다.', additional_kwargs={'refusal': None}, response_metadata={'token_usage': {'completion_tokens': 12, 'prompt_tokens': 398, 'total_tokens': 410, 'completion_tokens_details': {'accepted_prediction_tokens': 0, 'audio_tokens': 0, 'reasoning_tokens': 0, 'rejected_prediction_tokens': 0}, 'prompt_tokens_details': {'audio_tokens': 0, 'cached_tokens': 0}}, 'model_name': 'solar-mini-250422', 'system_fingerprint': None, 'id': '10485e07-927b-4686-810e-86cab18a0d98', 'service_tier': None, 'finish_reason': 'tool_calls', 'logprobs': None}, id='run--8cd71c7a-8601-4826-a3a3-36f3a7b03433-0', usage_metadata={'input_tokens': 398, 'output_tokens': 12, 'total_tokens': 410, 'input_token_details': {'audio': 0, 'cache_read': 0}, 'output_token_details': {'audio': 0, 'reasoning': 0}})"
      ]
     },
     "execution_count": 18,
     "metadata": {},
     "output_type": "execute_result"
    }
   ],
   "execution_count": 18
  },
  {
   "metadata": {
    "ExecuteTime": {
     "end_time": "2025-10-10T03:14:00.287632Z",
     "start_time": "2025-10-10T03:14:00.265919Z"
    }
   },
   "cell_type": "code",
   "source": "message_list",
   "id": "51597df9d582b670",
   "outputs": [
    {
     "data": {
      "text/plain": [
       "[HumanMessage(content='3 곱하기 5는?', additional_kwargs={}, response_metadata={}),\n",
       " AIMessage(content='', additional_kwargs={'tool_calls': [{'id': '297008ee-0863-497b-bf32-55826a8ceb8a', 'function': {'arguments': '{\"a\":3,\"b\":5}', 'name': 'multiply'}, 'type': 'function'}], 'refusal': None}, response_metadata={'token_usage': {'completion_tokens': 69, 'prompt_tokens': 327, 'total_tokens': 396, 'completion_tokens_details': {'accepted_prediction_tokens': 0, 'audio_tokens': 0, 'reasoning_tokens': 0, 'rejected_prediction_tokens': 0}, 'prompt_tokens_details': {'audio_tokens': 0, 'cached_tokens': 0}}, 'model_name': 'solar-mini-250422', 'system_fingerprint': None, 'id': '6593de76-e170-4260-950c-5e411fe5fa6d', 'service_tier': None, 'finish_reason': 'tool_calls', 'logprobs': None}, id='run--0b7238c4-aa8c-45d6-8cf8-46c295fa221f-0', tool_calls=[{'name': 'multiply', 'args': {'a': 3, 'b': 5}, 'id': '297008ee-0863-497b-bf32-55826a8ceb8a', 'type': 'tool_call'}], usage_metadata={'input_tokens': 327, 'output_tokens': 69, 'total_tokens': 396, 'input_token_details': {'audio': 0, 'cache_read': 0}, 'output_token_details': {'audio': 0, 'reasoning': 0}}),\n",
       " ToolMessage(content='15', name='multiply', tool_call_id='297008ee-0863-497b-bf32-55826a8ceb8a')]"
      ]
     },
     "execution_count": 21,
     "metadata": {},
     "output_type": "execute_result"
    }
   ],
   "execution_count": 21
  },
  {
   "metadata": {},
   "cell_type": "code",
   "outputs": [],
   "execution_count": null,
   "source": "",
   "id": "301fa62437393345"
  }
 ],
 "metadata": {
  "kernelspec": {
   "display_name": "Python 3",
   "language": "python",
   "name": "python3"
  },
  "language_info": {
   "codemirror_mode": {
    "name": "ipython",
    "version": 2
   },
   "file_extension": ".py",
   "mimetype": "text/x-python",
   "name": "python",
   "nbconvert_exporter": "python",
   "pygments_lexer": "ipython2",
   "version": "2.7.6"
  }
 },
 "nbformat": 4,
 "nbformat_minor": 5
}
