{
 "cells": [
  {
   "cell_type": "code",
   "id": "initial_id",
   "metadata": {
    "collapsed": true,
    "ExecuteTime": {
     "end_time": "2025-09-30T21:47:09.464480Z",
     "start_time": "2025-09-30T21:47:09.454194Z"
    }
   },
   "source": [
    "from dotenv import load_dotenv\n",
    "\n",
    "load_dotenv()"
   ],
   "outputs": [
    {
     "data": {
      "text/plain": [
       "True"
      ]
     },
     "execution_count": 1,
     "metadata": {},
     "output_type": "execute_result"
    }
   ],
   "execution_count": 1
  },
  {
   "metadata": {
    "ExecuteTime": {
     "end_time": "2025-09-30T21:50:47.083536Z",
     "start_time": "2025-09-30T21:50:41.571441Z"
    }
   },
   "cell_type": "code",
   "source": [
    "from langchain_upstage import ChatUpstage\n",
    "\n",
    "query = '인프런에는 어떤 강의가 있나요?'\n",
    "\n",
    "llm = ChatUpstage(model='solar-pro2')\n",
    "llm.invoke(query)"
   ],
   "id": "4df108ef0c51fb66",
   "outputs": [
    {
     "data": {
      "text/plain": [
       "AIMessage(content='인프런(Inflearn)은 다양한 분야의 온라인 강의를 제공하는 플랫폼으로, 주로 **개발, 데이터 과학, 디자인, 마케팅, 금융, 취미** 등 실용적인 스킬 업을 위한 콘텐츠가 풍부합니다. 현재(2024년 7월) 인기 있는 강의 카테고리와 대표적인 강의는 다음과 같습니다:\\n\\n---\\n\\n### **1. 개발 & 프로그래밍**\\n- **웹 개발**:  \\n  - \"자바스크립트로 배우는 웹 개발 입문\"  \\n  - \"리액트(React) 실전 가이드\"  \\n  - \"스프링 부트로 혼자 개발하는 웹 서비스\"  \\n- **데이터 과학 & AI**:  \\n  - \"파이썬으로 배우는 데이터 분석\"  \\n  - \"머신러닝 입문자를 위한 텐서플로우/케라스 강의\"  \\n  - \"SQL 데이터베이스 마스터 클래스\"  \\n- **모바일 앱 개발**:  \\n  - \"플러터로 시작하는 앱 개발\"  \\n  - \"안드로이드 Kotlin 개발 과정\"  \\n- **백엔드 & 인프라**:  \\n  - \"AWS로 배우는 클라우드 서버 구축\"  \\n  - \"Docker와 Kubernetes로 시작하는 DevOps\"  \\n\\n---\\n\\n### **2. 디자인**\\n- **UI/UX 디자인**:  \\n  - \"Figma로 배우는 UX/UI 디자인\"  \\n  - \"애프터 이펙트로 만드는 모션 그래픽\"  \\n- **일러스트 & 포토샵**:  \\n  - \"프로크리에이트로 그리는 캐릭터 디자인\"  \\n\\n---\\n\\n### **3. 비즈니스 & 마케팅**\\n- **디지털 마케팅**:  \\n  - \"구글 애널리틱스 실전 활용법\"  \\n  - \"메타(페이스북) 광고 전략\"  \\n- **기획 & 생산성**:  \\n  - \"노션(Notion)으로 업무 효율화\"  \\n  - \"스타트업 비즈니스 모델 설계\"  \\n\\n---\\n\\n### **4. 금융 & 투자**\\n- \"주식 투자 첫걸음\"  \\n- \"블록체인 이해와 암호화폐 분석\"  \\n\\n---\\n\\n### **5. 취미 & 라이프**\\n- **영상 편집**:  \\n  - \"프리미어 프로로 유튜브 영상 만들기\"  \\n- **음악 & 예술**:  \\n  - \"로직 프로로 작곡 시작하기\"  \\n\\n---\\n\\n### **6. 특별 강좌**\\n- **취업/자격증**:  \\n  - \"정보처리기사 필기/실기 대비\"  \\n  - \"코딩 테스트 알고리즘 문제 풀이\"  \\n- **어린이/초보자**:  \\n  - \"스크래치로 배우는 코딩 기초\"  \\n\\n---\\n\\n### **강의 특징**\\n- **실무 중심**: 현업 개발자가 강의하는 실용적인 내용이 많음.  \\n- **프로젝트 기반**: 이론보다는 직접 만들어보는 과정이 강점.  \\n- **가격 대비 품질**: 타 플랫폼 대비 저렴한 가격에 고품질 강의가 많음.  \\n\\n---\\n\\n### **확인 방법**\\n- **인프런 웹사이트** 또는 앱에서 카테고리별로 최신 인기 강의를 필터링할 수 있습니다.  \\n- 무료 강의나 할인 이벤트도 자주 진행되니, 회원가입 후 탐색하는 것을 추천합니다.  \\n\\n관심 있는 분야가 있다면 더 구체적인 추천도 가능합니다! 😊', additional_kwargs={'refusal': None}, response_metadata={'token_usage': {'completion_tokens': 584, 'prompt_tokens': 22, 'total_tokens': 606, 'completion_tokens_details': {'accepted_prediction_tokens': 0, 'audio_tokens': 0, 'reasoning_tokens': 0, 'rejected_prediction_tokens': 0}, 'prompt_tokens_details': {'audio_tokens': 0, 'cached_tokens': 0}}, 'model_name': 'solar-pro2-250909', 'system_fingerprint': None, 'id': '42dd2dbb-0a38-4849-a5d3-3c4c9d9217c3', 'service_tier': None, 'finish_reason': 'stop', 'logprobs': None}, id='run--17ae51d2-273f-4040-b893-54c38edb3c0d-0', usage_metadata={'input_tokens': 22, 'output_tokens': 584, 'total_tokens': 606, 'input_token_details': {'audio': 0, 'cache_read': 0}, 'output_token_details': {'audio': 0, 'reasoning': 0}})"
      ]
     },
     "execution_count": 5,
     "metadata": {},
     "output_type": "execute_result"
    }
   ],
   "execution_count": 5
  },
  {
   "metadata": {
    "ExecuteTime": {
     "end_time": "2025-09-30T22:00:07.526335Z",
     "start_time": "2025-09-30T22:00:07.426433Z"
    }
   },
   "cell_type": "code",
   "source": [
    "from typing import Annotated\n",
    "from typing_extensions import TypedDict\n",
    "\n",
    "from langgraph.graph.message import add_messages\n",
    "from langchain_core.messages import AnyMessage\n",
    "\n",
    "class AgentState(TypedDict):\n",
    "    messages: list[Annotated[AnyMessage, add_messages]]"
   ],
   "id": "91a3aa2ada33450",
   "outputs": [],
   "execution_count": 6
  },
  {
   "metadata": {
    "ExecuteTime": {
     "end_time": "2025-09-30T22:11:13.095044Z",
     "start_time": "2025-09-30T22:11:13.086700Z"
    }
   },
   "cell_type": "code",
   "source": [
    "from langgraph.graph import StateGraph\n",
    "\n",
    "graph_builder = StateGraph(AgentState)"
   ],
   "id": "b08bf515baafe63f",
   "outputs": [],
   "execution_count": 7
  },
  {
   "metadata": {
    "ExecuteTime": {
     "end_time": "2025-09-30T22:11:57.647889Z",
     "start_time": "2025-09-30T22:11:57.646312Z"
    }
   },
   "cell_type": "code",
   "source": [
    "def generate(state: AgentState) -> AgentState:\n",
    "    messages = state['messages']\n",
    "    ai_message = llm.invoke(messages)\n",
    "    return {'messages': [ai_message]}"
   ],
   "id": "1e922f3835049a2c",
   "outputs": [],
   "execution_count": 8
  },
  {
   "metadata": {
    "ExecuteTime": {
     "end_time": "2025-09-30T22:13:49.858501Z",
     "start_time": "2025-09-30T22:13:49.853067Z"
    }
   },
   "cell_type": "code",
   "source": [
    "from langgraph.graph import START, END\n",
    "\n",
    "graph_builder.add_node('generate', generate)\n",
    "graph_builder.add_edge(START, 'generate')\n",
    "graph_builder.add_edge('generate', END)"
   ],
   "id": "fb594aae7775f518",
   "outputs": [
    {
     "data": {
      "text/plain": [
       "<langgraph.graph.state.StateGraph at 0x10ab67bf0>"
      ]
     },
     "execution_count": 9,
     "metadata": {},
     "output_type": "execute_result"
    }
   ],
   "execution_count": 9
  },
  {
   "metadata": {
    "ExecuteTime": {
     "end_time": "2025-09-30T22:14:01.601790Z",
     "start_time": "2025-09-30T22:14:01.598985Z"
    }
   },
   "cell_type": "code",
   "source": "graph = graph_builder.compile()\n",
   "id": "1e41d55a577a7ba4",
   "outputs": [],
   "execution_count": 10
  },
  {
   "metadata": {
    "ExecuteTime": {
     "end_time": "2025-09-30T22:14:37.393411Z",
     "start_time": "2025-09-30T22:14:35.923612Z"
    }
   },
   "cell_type": "code",
   "source": [
    "from IPython.display import display, Image\n",
    "\n",
    "display(Image(graph.get_graph().draw_mermaid_png()))"
   ],
   "id": "d481ae1ccebb5ce",
   "outputs": [
    {
     "data": {
      "image/png": "[encoded data removed]",
      "text/plain": [
       "<IPython.core.display.Image object>"
      ]
     },
     "metadata": {},
     "output_type": "display_data",
     "jetTransient": {
      "display_id": null
     }
    }
   ],
   "execution_count": 11
  },
  {
   "metadata": {
    "ExecuteTime": {
     "end_time": "2025-09-30T22:15:45.058851Z",
     "start_time": "2025-09-30T22:15:39.202524Z"
    }
   },
   "cell_type": "code",
   "source": [
    "from langchain_core.messages import HumanMessage\n",
    "\n",
    "initial_state = {'messages': [HumanMessage(content=query)]}\n",
    "graph.invoke(initial_state)"
   ],
   "id": "81a54116145681dd",
   "outputs": [
    {
     "data": {
      "text/plain": [
       "{'messages': [AIMessage(content='인프런(Inflearn)은 다양한 분야의 온라인 강의를 제공하는 플랫폼으로, 주로 **개발, 데이터 과학, 디자인, 마케팅, 비즈니스** 등의 주제를 다룹니다. 2024년 기준으로 인기 있는 강의 카테고리와 예시를 안내해 드리겠습니다. (참고: 강의 목록은 지속적으로 업데이트되므로 최신 정보는 인프런 사이트에서 확인하시는 것이 좋습니다.)\\n\\n---\\n\\n### **1. 개발/프로그래밍**\\n- **웹 개발**:  \\n  - \"자바스크립트로 배우는 웹 개발의 정석\"  \\n  - \"리액트(React) 공식 문서로 제대로 배우기\"  \\n  - \"스프링 부트(Spring Boot)로 시작하는 웹 개발\"  \\n- **모바일 개발**:  \\n  - \"플러터(Flutter)로 안드로이드 & iOS 앱 개발\"  \\n  - \"스위프트(Swift)로 만드는 iOS 앱\"  \\n- **백엔드/인프라**:  \\n  - \"AWS로 배우는 클라우드 서버 구축\"  \\n  - \"도커(Docker)와 쿠버네티스(Kubernetes) 입문\"  \\n- **언어별 강의**:  \\n  - 파이썬(Python), 자바(Java), C++, Go 언어 등 기초부터 심화까지.\\n\\n---\\n\\n### **2. 데이터 과학/AI**\\n- \"파이썬으로 배우는 데이터 분석 & 시각화\"  \\n- \"머신러닝 입문: 개념부터 실습까지\"  \\n- \"텐서플로(TensorFlow)를 이용한 딥러닝\"  \\n- \"SQL과 데이터베이스 설계\"  \\n\\n---\\n\\n### **3. 디자인/UI·UX**\\n- \"피그마(Figma)로 배우는 UX/UI 디자인\"  \\n- \"어도비 일러스트레이터(Adobe Illustrator) 마스터\"  \\n- \"UX 리서치 & 프로토타이핑\"  \\n\\n---\\n\\n### **4. 마케팅/비즈니스**\\n- \"구글 애널리틱스(GA4)로 데이터 분석\"  \\n- \"디지털 마케팅 전략 A to Z\"  \\n- \"스타트업 창업과 비즈니스 모델 설계\"  \\n\\n---\\n\\n### **5. 기타 인기 강의**\\n- **게임 개발**: \"유니티(Unity)로 게임 만들기\"  \\n- **블록체인**: \"솔리디티(Solidity)로 배우는 스마트 계약\"  \\n- **자격증 준비**: \"정보처리기사/산업기사 실기 대비\"  \\n- **생활 코딩**: \"비전공자를 위한 코딩 입문\"  \\n\\n---\\n\\n### **강의 특징**\\n- **실무 중심**: 현직 개발자가 직접 강의하는 경우가 많음.  \\n- **프로젝트 기반**: 이론보다는 실제 예제나 포트폴리오를 만드는 과정 강조.  \\n- **무료 강의**: 일부 강의는 무료 체험 가능.  \\n\\n---\\n\\n### **확인 방법**\\n인프런 사이트(https://www.inflearn.com/)에서 **\"인기 순\"**, **\"최신 순\"**, 또는 관심 분야로 필터링해 검색하면 더 정확한 정보를 얻을 수 있습니다.  \\n예: \"프론트엔드\", \"딥러닝\", \"디자인 툴\" 등 키워드 검색.\\n\\n관심 있는 분야가 있다면 구체적으로 알려주시면 더 추천드릴 수 있습니다! 😊', additional_kwargs={'refusal': None}, response_metadata={'token_usage': {'completion_tokens': 571, 'prompt_tokens': 22, 'total_tokens': 593, 'completion_tokens_details': {'accepted_prediction_tokens': 0, 'audio_tokens': 0, 'reasoning_tokens': 0, 'rejected_prediction_tokens': 0}, 'prompt_tokens_details': {'audio_tokens': 0, 'cached_tokens': 0}}, 'model_name': 'solar-pro2-250909', 'system_fingerprint': None, 'id': '85a13a4e-cd96-451e-b2f2-e4c59fc3d73d', 'service_tier': None, 'finish_reason': 'stop', 'logprobs': None}, id='run--e5375c86-3583-4587-97e6-94d4c15d6d95-0', usage_metadata={'input_tokens': 22, 'output_tokens': 571, 'total_tokens': 593, 'input_token_details': {'audio': 0, 'cache_read': 0}, 'output_token_details': {'audio': 0, 'reasoning': 0}})]}"
      ]
     },
     "execution_count": 12,
     "metadata": {},
     "output_type": "execute_result"
    }
   ],
   "execution_count": 12
  },
  {
   "metadata": {},
   "cell_type": "code",
   "outputs": [],
   "execution_count": null,
   "source": "",
   "id": "203e9d0d9e66ca87"
  }
 ],
 "metadata": {
  "kernelspec": {
   "display_name": "Python 3",
   "language": "python",
   "name": "python3"
  },
  "language_info": {
   "codemirror_mode": {
    "name": "ipython",
    "version": 2
   },
   "file_extension": ".py",
   "mimetype": "text/x-python",
   "name": "python",
   "nbconvert_exporter": "python",
   "pygments_lexer": "ipython2",
   "version": "2.7.6"
  }
 },
 "nbformat": 4,
 "nbformat_minor": 5
}
