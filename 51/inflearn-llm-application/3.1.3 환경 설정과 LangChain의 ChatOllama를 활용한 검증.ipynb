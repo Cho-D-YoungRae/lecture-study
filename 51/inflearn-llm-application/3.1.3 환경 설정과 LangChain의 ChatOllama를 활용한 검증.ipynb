{
 "cells": [
  {
   "metadata": {
    "ExecuteTime": {
     "end_time": "2025-09-25T11:05:21.364088Z",
     "start_time": "2025-09-25T11:05:21.258886Z"
    }
   },
   "cell_type": "code",
   "source": [
    "from langchain_ollama import ChatOllama\n",
    "\n",
    "llm = ChatOllama(model = 'gemma3:4b')"
   ],
   "id": "335c52015c92f23b",
   "outputs": [],
   "execution_count": 2
  },
  {
   "metadata": {
    "ExecuteTime": {
     "end_time": "2025-09-25T11:05:37.059625Z",
     "start_time": "2025-09-25T11:05:23.161723Z"
    }
   },
   "cell_type": "code",
   "source": "ai_message = llm.invoke(\"인프런에 어떤 강의가 있나요?\")",
   "id": "5bd546d234ddfca0",
   "outputs": [],
   "execution_count": 3
  },
  {
   "metadata": {
    "ExecuteTime": {
     "end_time": "2025-09-25T11:05:41.303429Z",
     "start_time": "2025-09-25T11:05:41.299324Z"
    }
   },
   "cell_type": "code",
   "source": "ai_message",
   "id": "3347aecab25fe49d",
   "outputs": [
    {
     "data": {
      "text/plain": [
       "AIMessage(content='인프런에는 정말 다양한 분야의 강의가 많습니다. 주요 분야별로 인기 있는 강의 몇 가지를 소개해 드릴게요.\\n\\n**1. 프로그래밍:**\\n\\n*   **혼자 공부하는 파이썬 (기초)**: 파이썬 초보자를 위한 완벽한 입문 강의입니다.\\n*   **자바 웹 개발 마스터 강의**: Spring, JPA, Mybatis 등 웹 개발 핵심 기술을 다룹니다.\\n*   **자바 상하향 (상하향 개발):** 자바 기반의 어플리케이션 개발을 위한 실전 강좌입니다.\\n*   **Node.js & React 풀스택 개발자 온라인 강의:** Node.js와 React를 사용하여 웹 애플리케이션을 개발하는 방법을 배울 수 있습니다.\\n*   **C# 웹 프로그래밍 마스터:** ASP.NET Core 기반의 C# 웹 개발 강좌입니다.\\n\\n**2. 데이터 분석/머신러닝:**\\n\\n*   **혼자 공부하는 파이썬 데이터 분석**: Pandas, NumPy, Matplotlib 등 데이터 분석 라이브러리 사용법을 배울 수 있습니다.\\n*   **혼자 공부하는 딥러닝**: TensorFlow, Keras 등 딥러닝 프레임워크 사용법을 배울 수 있습니다.\\n*   **데이터 분석, 머신러닝, 딥러닝 완벽 마스터**: 데이터 분석부터 머신러닝, 딥러닝까지 종합적으로 학습할 수 있습니다.\\n\\n**3. 웹/앱 개발:**\\n\\n*   **React 풀스택 개발자 온라인 강의**: React를 사용하여 웹 애플리케이션을 개발하는 방법을 배울 수 있습니다.\\n*   **Node.js & Express 웹 서버 개발 마스터**: Node.js와 Express를 사용하여 웹 서버를 개발하는 방법을 배울 수 있습니다.\\n*   **Android 앱 개발 마스터**: 안드로이드 앱 개발의 기본부터 고급 기능을 배우는 강좌입니다.\\n*   **iOS 앱 개발 마스터**: Swift 언어를 사용하여 iOS 앱을 개발하는 방법을 배울 수 있습니다.\\n\\n**4. 디자인:**\\n\\n*   **포토샵 마스터 강의**: 포토샵의 다양한 기능과 활용법을 배울 수 있습니다.\\n*   **일러스트레이터 마스터 강의**: 일러스트레이터의 다양한 기능과 활용법을 배울 수 있습니다.\\n\\n**5. 클라우드/IT:**\\n\\n*   **AWS 클라우드 자격증 탄탄대로**: AWS 자격증 취득을 위한 실전 강좌입니다.\\n*   **Azure 클라우드 자격증 탄탄대로**: Azure 자격증 취득을 위한 실전 강좌입니다.\\n\\n**더 자세한 정보는 인프런 웹사이트에서 확인하실 수 있습니다:**\\n\\n*   **인프런:** [https://www.inflearn.com/](https://www.inflearn.com/)\\n\\n**팁:**\\n\\n*   인프런 웹사이트에서 ‘인기 강좌’, ‘최신 강좌’, ‘카테고리’ 등의 기능을 활용하여 원하는 강좌를 검색해 보세요.\\n*   각 강좌의 상세 페이지에서 강의 내용, 강사 정보, 수강 후기 등을 확인하여 자신에게 맞는 강좌를 선택하세요.\\n\\n궁금한 분야나 배우고 싶은 기술이 있다면 더 자세한 정보를 알려드릴 수 있습니다. 예를 들어 \"파이썬 데이터 분석 강의 중 가장 인기 있는 것은 무엇인가요?\" 와 같이 질문해 주세요.', additional_kwargs={}, response_metadata={'model': 'gemma3:4b', 'created_at': '2025-09-25T11:05:37.057508Z', 'done': True, 'done_reason': 'stop', 'total_duration': 13892652375, 'load_duration': 102676417, 'prompt_eval_count': 19, 'prompt_eval_duration': 896788208, 'eval_count': 736, 'eval_duration': 12892750792, 'model_name': 'gemma3:4b'}, id='run--6f4d93e6-bebe-472e-b3dd-f21de6328a3b-0', usage_metadata={'input_tokens': 19, 'output_tokens': 736, 'total_tokens': 755})"
      ]
     },
     "execution_count": 4,
     "metadata": {},
     "output_type": "execute_result"
    }
   ],
   "execution_count": 4
  },
  {
   "metadata": {
    "ExecuteTime": {
     "end_time": "2025-09-25T11:05:42.540252Z",
     "start_time": "2025-09-25T11:05:42.538198Z"
    }
   },
   "cell_type": "code",
   "source": "print(ai_message.content)",
   "id": "33f08996c74c4d77",
   "outputs": [
    {
     "name": "stdout",
     "output_type": "stream",
     "text": [
      "인프런에는 정말 다양한 분야의 강의가 많습니다. 주요 분야별로 인기 있는 강의 몇 가지를 소개해 드릴게요.\n",
      "\n",
      "**1. 프로그래밍:**\n",
      "\n",
      "*   **혼자 공부하는 파이썬 (기초)**: 파이썬 초보자를 위한 완벽한 입문 강의입니다.\n",
      "*   **자바 웹 개발 마스터 강의**: Spring, JPA, Mybatis 등 웹 개발 핵심 기술을 다룹니다.\n",
      "*   **자바 상하향 (상하향 개발):** 자바 기반의 어플리케이션 개발을 위한 실전 강좌입니다.\n",
      "*   **Node.js & React 풀스택 개발자 온라인 강의:** Node.js와 React를 사용하여 웹 애플리케이션을 개발하는 방법을 배울 수 있습니다.\n",
      "*   **C# 웹 프로그래밍 마스터:** ASP.NET Core 기반의 C# 웹 개발 강좌입니다.\n",
      "\n",
      "**2. 데이터 분석/머신러닝:**\n",
      "\n",
      "*   **혼자 공부하는 파이썬 데이터 분석**: Pandas, NumPy, Matplotlib 등 데이터 분석 라이브러리 사용법을 배울 수 있습니다.\n",
      "*   **혼자 공부하는 딥러닝**: TensorFlow, Keras 등 딥러닝 프레임워크 사용법을 배울 수 있습니다.\n",
      "*   **데이터 분석, 머신러닝, 딥러닝 완벽 마스터**: 데이터 분석부터 머신러닝, 딥러닝까지 종합적으로 학습할 수 있습니다.\n",
      "\n",
      "**3. 웹/앱 개발:**\n",
      "\n",
      "*   **React 풀스택 개발자 온라인 강의**: React를 사용하여 웹 애플리케이션을 개발하는 방법을 배울 수 있습니다.\n",
      "*   **Node.js & Express 웹 서버 개발 마스터**: Node.js와 Express를 사용하여 웹 서버를 개발하는 방법을 배울 수 있습니다.\n",
      "*   **Android 앱 개발 마스터**: 안드로이드 앱 개발의 기본부터 고급 기능을 배우는 강좌입니다.\n",
      "*   **iOS 앱 개발 마스터**: Swift 언어를 사용하여 iOS 앱을 개발하는 방법을 배울 수 있습니다.\n",
      "\n",
      "**4. 디자인:**\n",
      "\n",
      "*   **포토샵 마스터 강의**: 포토샵의 다양한 기능과 활용법을 배울 수 있습니다.\n",
      "*   **일러스트레이터 마스터 강의**: 일러스트레이터의 다양한 기능과 활용법을 배울 수 있습니다.\n",
      "\n",
      "**5. 클라우드/IT:**\n",
      "\n",
      "*   **AWS 클라우드 자격증 탄탄대로**: AWS 자격증 취득을 위한 실전 강좌입니다.\n",
      "*   **Azure 클라우드 자격증 탄탄대로**: Azure 자격증 취득을 위한 실전 강좌입니다.\n",
      "\n",
      "**더 자세한 정보는 인프런 웹사이트에서 확인하실 수 있습니다:**\n",
      "\n",
      "*   **인프런:** [https://www.inflearn.com/](https://www.inflearn.com/)\n",
      "\n",
      "**팁:**\n",
      "\n",
      "*   인프런 웹사이트에서 ‘인기 강좌’, ‘최신 강좌’, ‘카테고리’ 등의 기능을 활용하여 원하는 강좌를 검색해 보세요.\n",
      "*   각 강좌의 상세 페이지에서 강의 내용, 강사 정보, 수강 후기 등을 확인하여 자신에게 맞는 강좌를 선택하세요.\n",
      "\n",
      "궁금한 분야나 배우고 싶은 기술이 있다면 더 자세한 정보를 알려드릴 수 있습니다. 예를 들어 \"파이썬 데이터 분석 강의 중 가장 인기 있는 것은 무엇인가요?\" 와 같이 질문해 주세요.\n"
     ]
    }
   ],
   "execution_count": 5
  },
  {
   "metadata": {},
   "cell_type": "code",
   "outputs": [],
   "execution_count": null,
   "source": "",
   "id": "4870733ed56d3562"
  }
 ],
 "metadata": {
  "kernelspec": {
   "display_name": "Python 3",
   "language": "python",
   "name": "python3"
  },
  "language_info": {
   "codemirror_mode": {
    "name": "ipython",
    "version": 2
   },
   "file_extension": ".py",
   "mimetype": "text/x-python",
   "name": "python",
   "nbconvert_exporter": "python",
   "pygments_lexer": "ipython2",
   "version": "2.7.6"
  }
 },
 "nbformat": 4,
 "nbformat_minor": 5
}
