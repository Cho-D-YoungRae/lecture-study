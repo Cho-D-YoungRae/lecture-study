{
 "cells": [
  {
   "cell_type": "code",
   "id": "initial_id",
   "metadata": {
    "collapsed": true,
    "ExecuteTime": {
     "end_time": "2025-09-25T10:30:24.546087Z",
     "start_time": "2025-09-25T10:30:24.541122Z"
    }
   },
   "source": [
    "from dotenv import load_dotenv\n",
    "\n",
    "load_dotenv()"
   ],
   "outputs": [
    {
     "data": {
      "text/plain": [
       "True"
      ]
     },
     "execution_count": 1,
     "metadata": {},
     "output_type": "execute_result"
    }
   ],
   "execution_count": 1
  },
  {
   "metadata": {
    "ExecuteTime": {
     "end_time": "2025-09-25T10:30:26.143339Z",
     "start_time": "2025-09-25T10:30:25.248808Z"
    }
   },
   "cell_type": "code",
   "source": [
    "from langchain_openai import ChatOpenAI\n",
    "\n",
    "llm = ChatOpenAI()"
   ],
   "id": "335c52015c92f23b",
   "outputs": [],
   "execution_count": 2
  },
  {
   "metadata": {
    "ExecuteTime": {
     "end_time": "2025-09-25T10:34:04.434105Z",
     "start_time": "2025-09-25T10:34:02.588679Z"
    }
   },
   "cell_type": "code",
   "source": "ai_message = llm.invoke(\"인프런에 어떤 강의가 있나요?\")",
   "id": "5bd546d234ddfca0",
   "outputs": [],
   "execution_count": 4
  },
  {
   "metadata": {
    "ExecuteTime": {
     "end_time": "2025-09-25T10:34:11.741263Z",
     "start_time": "2025-09-25T10:34:11.738737Z"
    }
   },
   "cell_type": "code",
   "source": "ai_message",
   "id": "3347aecab25fe49d",
   "outputs": [
    {
     "data": {
      "text/plain": [
       "AIMessage(content='인프런에는 다양한 분야의 강의들이 있습니다. 프로그래밍, 디자인, 비즈니스, 언어학습, 자기계발 등 다양한 주제의 강의들이 제공되고 있습니다. 관심 있는 분야나 배우고 싶은 스킬에 맞는 강의를 선택하여 수강할 수 있습니다. 또한 실무 전문가들이 직접 강의를 진행하며 실무에서 바로 활용할 수 있는 실용적인 내용들을 다루고 있습니다. 원하는 강의를 검색하여 확인해보시는 것을 추천드립니다.', additional_kwargs={'refusal': None}, response_metadata={'token_usage': {'completion_tokens': 190, 'prompt_tokens': 26, 'total_tokens': 216, 'completion_tokens_details': {'accepted_prediction_tokens': 0, 'audio_tokens': 0, 'reasoning_tokens': 0, 'rejected_prediction_tokens': 0}, 'prompt_tokens_details': {'audio_tokens': 0, 'cached_tokens': 0}}, 'model_name': 'gpt-3.5-turbo-0125', 'system_fingerprint': None, 'id': 'chatcmpl-CJdaUpQuDxH8YrW1oCfvDk8giZ1Pw', 'service_tier': 'default', 'finish_reason': 'stop', 'logprobs': None}, id='run--b2fe5125-66c7-4b20-93fd-873433f73cb8-0', usage_metadata={'input_tokens': 26, 'output_tokens': 190, 'total_tokens': 216, 'input_token_details': {'audio': 0, 'cache_read': 0}, 'output_token_details': {'audio': 0, 'reasoning': 0}})"
      ]
     },
     "execution_count": 6,
     "metadata": {},
     "output_type": "execute_result"
    }
   ],
   "execution_count": 6
  },
  {
   "metadata": {
    "ExecuteTime": {
     "end_time": "2025-09-25T10:34:17.286598Z",
     "start_time": "2025-09-25T10:34:17.284273Z"
    }
   },
   "cell_type": "code",
   "source": "ai_message.content",
   "id": "33f08996c74c4d77",
   "outputs": [
    {
     "data": {
      "text/plain": [
       "'인프런에는 다양한 분야의 강의들이 있습니다. 프로그래밍, 디자인, 비즈니스, 언어학습, 자기계발 등 다양한 주제의 강의들이 제공되고 있습니다. 관심 있는 분야나 배우고 싶은 스킬에 맞는 강의를 선택하여 수강할 수 있습니다. 또한 실무 전문가들이 직접 강의를 진행하며 실무에서 바로 활용할 수 있는 실용적인 내용들을 다루고 있습니다. 원하는 강의를 검색하여 확인해보시는 것을 추천드립니다.'"
      ]
     },
     "execution_count": 7,
     "metadata": {},
     "output_type": "execute_result"
    }
   ],
   "execution_count": 7
  },
  {
   "metadata": {},
   "cell_type": "code",
   "outputs": [],
   "execution_count": null,
   "source": "",
   "id": "4870733ed56d3562"
  }
 ],
 "metadata": {
  "kernelspec": {
   "display_name": "Python 3",
   "language": "python",
   "name": "python3"
  },
  "language_info": {
   "codemirror_mode": {
    "name": "ipython",
    "version": 2
   },
   "file_extension": ".py",
   "mimetype": "text/x-python",
   "name": "python",
   "nbconvert_exporter": "python",
   "pygments_lexer": "ipython2",
   "version": "2.7.6"
  }
 },
 "nbformat": 4,
 "nbformat_minor": 5
}
