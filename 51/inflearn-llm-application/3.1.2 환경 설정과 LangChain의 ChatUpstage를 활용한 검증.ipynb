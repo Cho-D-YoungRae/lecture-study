{
 "cells": [
  {
   "cell_type": "code",
   "id": "initial_id",
   "metadata": {
    "collapsed": true,
    "ExecuteTime": {
     "end_time": "2025-09-25T10:49:11.174600Z",
     "start_time": "2025-09-25T10:49:11.168533Z"
    }
   },
   "source": [
    "from dotenv import load_dotenv\n",
    "\n",
    "load_dotenv()"
   ],
   "outputs": [
    {
     "data": {
      "text/plain": [
       "True"
      ]
     },
     "execution_count": 1,
     "metadata": {},
     "output_type": "execute_result"
    }
   ],
   "execution_count": 1
  },
  {
   "metadata": {
    "ExecuteTime": {
     "end_time": "2025-09-25T10:49:25.695739Z",
     "start_time": "2025-09-25T10:49:25.134411Z"
    }
   },
   "cell_type": "code",
   "source": [
    "from langchain_upstage import ChatUpstage\n",
    "\n",
    "llm = ChatUpstage()"
   ],
   "id": "335c52015c92f23b",
   "outputs": [],
   "execution_count": 2
  },
  {
   "metadata": {
    "ExecuteTime": {
     "end_time": "2025-09-25T10:49:30.516344Z",
     "start_time": "2025-09-25T10:49:26.516990Z"
    }
   },
   "cell_type": "code",
   "source": "ai_message = llm.invoke(\"인프런에 어떤 강의가 있나요?\")",
   "id": "5bd546d234ddfca0",
   "outputs": [],
   "execution_count": 3
  },
  {
   "metadata": {
    "ExecuteTime": {
     "end_time": "2025-09-25T10:49:30.519241Z",
     "start_time": "2025-09-25T10:49:30.517221Z"
    }
   },
   "cell_type": "code",
   "source": "ai_message",
   "id": "3347aecab25fe49d",
   "outputs": [
    {
     "data": {
      "text/plain": [
       "AIMessage(content='인프런에는 다양한 분야의 강의가 있습니다. 주요 카테고리는 다음과 같습니다:\\n\\n1. **프로그래밍**: Python, JavaScript, Java, C++ 등 다양한 프로그래밍 언어의 기초부터 고급까지 다양한 강의가 있습니다. 또한, 웹 개발, 모바일 개발, 게임 개발, 인공지능 등 특정 분야에 대한 강의도 있습니다.\\n\\n2. **디자인**: UI/UX 디자인, 그래픽 디자인, 웹 디자인 등 디자인 관련 강의가 있습니다. Adobe Photoshop, Illustrator, Figma 등 디자인 도구를 사용하는 방법에 대한 강의도 있습니다.\\n\\n3. **데이터 사이언스**: 데이터 분석, 머신러닝, 딥러닝 등 데이터 사이언스 관련 강의가 있습니다. Python, R, SQL 등 데이터 분석에 필요한 도구와 기술에 대한 강의도 있습니다.\\n\\n4. **경영/마케팅**: 비즈니스 전략, 마케팅, 재무 등 경영 관련 강의가 있습니다. 스타트업, 창업, 리더십 등 특정 주제에 대한 강의도 있습니다.\\n\\n5. **인문학**: 철학, 역사, 심리학 등 인문학 관련 강의가 있습니다. 자기계발, 리더십, 커뮤니케이션 등 개인 역량 개발에 도움이 되는 강의도 있습니다.\\n\\n6. **기타**: 사진, 음악, 미술 등 다양한 분야의 강의가 있습니다. 또한, 외국어 학습, 건강 관리, 취미 등 다양한 주제에 대한 강의도 있습니다.\\n\\n이 외에도 최신 트렌드에 맞춘 새로운 강의들이 지속적으로 업데이트되고 있습니다. 인프런 웹사이트나 앱을 통해 더 자세한 정보를 확인할 수 있습니다.', additional_kwargs={'refusal': None}, response_metadata={'token_usage': {'completion_tokens': 311, 'prompt_tokens': 19, 'total_tokens': 330, 'completion_tokens_details': {'accepted_prediction_tokens': 0, 'audio_tokens': 0, 'reasoning_tokens': 0, 'rejected_prediction_tokens': 0}, 'prompt_tokens_details': {'audio_tokens': 0, 'cached_tokens': 0}}, 'model_name': 'solar-mini-250422', 'system_fingerprint': None, 'id': '1e0a240c-3cac-4cf5-bc8d-4a675854fca8', 'service_tier': None, 'finish_reason': 'stop', 'logprobs': None}, id='run--4c08e520-9859-4170-8f4c-c1aae7c9975f-0', usage_metadata={'input_tokens': 19, 'output_tokens': 311, 'total_tokens': 330, 'input_token_details': {'audio': 0, 'cache_read': 0}, 'output_token_details': {'audio': 0, 'reasoning': 0}})"
      ]
     },
     "execution_count": 4,
     "metadata": {},
     "output_type": "execute_result"
    }
   ],
   "execution_count": 4
  },
  {
   "metadata": {
    "ExecuteTime": {
     "end_time": "2025-09-25T10:49:38.074502Z",
     "start_time": "2025-09-25T10:49:38.072894Z"
    }
   },
   "cell_type": "code",
   "source": "print(ai_message.content)",
   "id": "33f08996c74c4d77",
   "outputs": [
    {
     "name": "stdout",
     "output_type": "stream",
     "text": [
      "인프런에는 다양한 분야의 강의가 있습니다. 주요 카테고리는 다음과 같습니다:\n",
      "\n",
      "1. **프로그래밍**: Python, JavaScript, Java, C++ 등 다양한 프로그래밍 언어의 기초부터 고급까지 다양한 강의가 있습니다. 또한, 웹 개발, 모바일 개발, 게임 개발, 인공지능 등 특정 분야에 대한 강의도 있습니다.\n",
      "\n",
      "2. **디자인**: UI/UX 디자인, 그래픽 디자인, 웹 디자인 등 디자인 관련 강의가 있습니다. Adobe Photoshop, Illustrator, Figma 등 디자인 도구를 사용하는 방법에 대한 강의도 있습니다.\n",
      "\n",
      "3. **데이터 사이언스**: 데이터 분석, 머신러닝, 딥러닝 등 데이터 사이언스 관련 강의가 있습니다. Python, R, SQL 등 데이터 분석에 필요한 도구와 기술에 대한 강의도 있습니다.\n",
      "\n",
      "4. **경영/마케팅**: 비즈니스 전략, 마케팅, 재무 등 경영 관련 강의가 있습니다. 스타트업, 창업, 리더십 등 특정 주제에 대한 강의도 있습니다.\n",
      "\n",
      "5. **인문학**: 철학, 역사, 심리학 등 인문학 관련 강의가 있습니다. 자기계발, 리더십, 커뮤니케이션 등 개인 역량 개발에 도움이 되는 강의도 있습니다.\n",
      "\n",
      "6. **기타**: 사진, 음악, 미술 등 다양한 분야의 강의가 있습니다. 또한, 외국어 학습, 건강 관리, 취미 등 다양한 주제에 대한 강의도 있습니다.\n",
      "\n",
      "이 외에도 최신 트렌드에 맞춘 새로운 강의들이 지속적으로 업데이트되고 있습니다. 인프런 웹사이트나 앱을 통해 더 자세한 정보를 확인할 수 있습니다.\n"
     ]
    }
   ],
   "execution_count": 6
  },
  {
   "metadata": {},
   "cell_type": "code",
   "outputs": [],
   "execution_count": null,
   "source": "",
   "id": "4870733ed56d3562"
  }
 ],
 "metadata": {
  "kernelspec": {
   "display_name": "Python 3",
   "language": "python",
   "name": "python3"
  },
  "language_info": {
   "codemirror_mode": {
    "name": "ipython",
    "version": 2
   },
   "file_extension": ".py",
   "mimetype": "text/x-python",
   "name": "python",
   "nbconvert_exporter": "python",
   "pygments_lexer": "ipython2",
   "version": "2.7.6"
  }
 },
 "nbformat": 4,
 "nbformat_minor": 5
}
