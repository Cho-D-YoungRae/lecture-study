{
 "cells": [
  {
   "metadata": {},
   "cell_type": "markdown",
   "source": [
    "PDF 문서는 한 문단을 알 수 없음\n",
    "\n",
    "- 줄 바꿈은 다른 줄\n",
    "- 단어가 잘릴 경우 알 수 없음\n",
    "- 워드는 한 문단으로 인식하므로 워드가 추천됨\n",
    "\n",
    "워드는 그냥 document loader에 넘기면 읽을 수 없음\n",
    "\n",
    "- rtf라는 포맷으로 되어있음\n",
    "- docx로 변경 필요"
   ],
   "id": "e7839b9edcd636b6"
  },
  {
   "metadata": {},
   "cell_type": "markdown",
   "source": [
    "1. 문서의 내용을 읽는다.\n",
    "2. 문서를 쪼갠다.\n",
    "    - 토큰수 초과로 답변을 생성하지 못 할 수 있고\n",
    "    - 문서가 길면(인풋이 길면) 답변 생성이 오래 걸림\n",
    "3. 임베딩 -> 벡터 데이터베이스에 저장\n",
    "4. 질문이 있을 떄, 벡터 데이터베이스에 유사도 검색\n",
    "5. 유사도 검색으로 가져온 문서를 LLM에 질문과 같이 전달"
   ],
   "id": "751b6545ab6601e0"
  },
  {
   "metadata": {},
   "cell_type": "markdown",
   "source": [
    "Text Splitter 는 여러 종류가 있음\n",
    "\n",
    "- 일반적으로 문서는 RecursiveCharacterTextSplitter 혹은 CharacterTextSplitter를 사용\n",
    "- RecursiveCharacterTextSplitter는 리스트로 구분자를 지정할 수 있는 반면 CharacterTextSplitter는 단일 문자만 지정 가능\n",
    "- 그래서 RecursiveCharacterTextSplitter 가 성능이 더 좋음\n",
    "\n",
    "Text Splitter\n",
    "\n",
    "- chunk_size : 쪼갤 크기\n",
    "- chunk_overlap : 겹치는 크기\n",
    "    - 오버랩을 줘서 우리가 원하는 문서를 더 잘 가져올 수 있도록 함"
   ],
   "id": "dfa4b40b20bf5433"
  },
  {
   "metadata": {},
   "cell_type": "markdown",
   "source": [
    "langchain 은 체인이므로 더 효과적으로 retrieval 할 수 있음\n",
    "\n",
    "> Retrieval QA Chain: Retrieval 하고 Question Answer\n",
    "\n",
    "langchainhub 은 많은 기능들이 있지만, 프롬프트를 많이 줌"
   ],
   "id": "f3e083cec8740175"
  },
  {
   "metadata": {
    "ExecuteTime": {
     "end_time": "2025-09-25T12:55:38.248504Z",
     "start_time": "2025-09-25T12:55:38.246702Z"
    }
   },
   "cell_type": "code",
   "source": [
    "from langchain_community.document_loaders import Docx2txtLoader\n",
    "from langchain_text_splitters import RecursiveCharacterTextSplitter"
   ],
   "id": "d78aa30e599c06cf",
   "outputs": [],
   "execution_count": 16
  },
  {
   "metadata": {
    "ExecuteTime": {
     "end_time": "2025-09-25T12:55:16.134201Z",
     "start_time": "2025-09-25T12:55:14.875588Z"
    }
   },
   "cell_type": "code",
   "source": [
    "text_splitter = RecursiveCharacterTextSplitter(\n",
    "    chunk_size = 1500,\n",
    "    chunk_overlap = 200,\n",
    ")\n",
    "\n",
    "loader = Docx2txtLoader('./tax.docx')\n",
    "document_list = loader.load_and_split(text_splitter=text_splitter)"
   ],
   "id": "85dbe5d5f2adca2b",
   "outputs": [],
   "execution_count": 12
  },
  {
   "metadata": {
    "ExecuteTime": {
     "end_time": "2025-09-25T12:55:16.653160Z",
     "start_time": "2025-09-25T12:55:16.650314Z"
    }
   },
   "cell_type": "code",
   "source": "len(document_list)",
   "id": "209d7bccc715c9d4",
   "outputs": [
    {
     "data": {
      "text/plain": [
       "183"
      ]
     },
     "execution_count": 13,
     "metadata": {},
     "output_type": "execute_result"
    }
   ],
   "execution_count": 13
  },
  {
   "metadata": {
    "ExecuteTime": {
     "end_time": "2025-09-25T12:55:31.404410Z",
     "start_time": "2025-09-25T12:55:31.401949Z"
    }
   },
   "cell_type": "code",
   "source": "document_list[1]",
   "id": "65f0caa5e58bd1a3",
   "outputs": [
    {
     "data": {
      "text/plain": [
       "Document(metadata={'source': './tax.docx'}, page_content='1. 구성원 간 이익의 분배비율이 정하여져 있고 해당 구성원별로 이익의 분배비율이 확인되는 경우\\n\\n2. 구성원 간 이익의 분배비율이 정하여져 있지 아니하나 사실상 구성원별로 이익이 분배되는 것으로 확인되는 경우\\n\\n④ 제3항에도 불구하고 해당 단체의 전체 구성원 중 일부 구성원의 분배비율만 확인되거나 일부 구성원에게만 이익이 분배되는 것으로 확인되는 경우에는 다음 각 호의 구분에 따라 소득세 또는 법인세를 납부할 의무를 진다.<신설 2018. 12. 31.>\\n\\n1. 확인되는 부분: 해당 구성원별로 소득세 또는 법인세에 대한 납세의무 부담\\n\\n2. 확인되지 아니하는 부분: 해당 단체를 1거주자 또는 1비거주자로 보아 소득세에 대한 납세의무 부담\\n\\n⑤ 제3항 및 제4항에도 불구하고 법인으로 보는 단체 외의 법인 아닌 단체에 해당하는 국외투자기구(투자권유를 하여 모은 금전 등을 가지고 재산적 가치가 있는 투자대상자산을 취득, 처분하거나 그 밖의 방법으로 운용하고 그 결과를 투자자에게 배분하여 귀속시키는 투자행위를 하는 기구로서 국외에서 설립된 기구를 말한다. 이하 같다)를 제119조의2제1항제2호에 따라 국내원천소득의 실질귀속자로 보는 경우 그 국외투자기구는 1비거주자로서 소득세를 납부할 의무를 진다.<신설 2018. 12. 31.>\\n\\n[전문개정 2009. 12. 31.]\\n\\n[제1조에서 이동, 종전 제2조는 제2조의2로 이동 <2009. 12. 31.>]\\n\\n\\n\\n제2조의2(납세의무의 범위) ① 제43조에 따라 공동사업에 관한 소득금액을 계산하는 경우에는 해당 공동사업자별로 납세의무를 진다. 다만, 제43조제3항에 따른 주된 공동사업자(이하 이 항에서 “주된 공동사업자”라 한다)에게 합산과세되는 경우 그 합산과세되는 소득금액에 대해서는 주된 공동사업자의 특수관계인은 같은 조 제2항에 따른 손익분배비율에 해당하는 그의 소득금액을 한도로 주된 공동사업자와 연대하여 납세의무를 진다. <개정 2012. 1. 1., 2013. 1. 1.>\\n\\n② 제44조에 따라 피상속인의 소득금액에 대해서 과세하는 경우에는 그 상속인이 납세의무를 진다.\\n\\n③ 제101조제2항에 따라 증여자가 자산을 직접 양도한 것으로 보는 경우 그 양도소득에 대해서는 증여자와 증여받은 자가 연대하여 납세의무를 진다.<개정 2020. 12. 29.>\\n\\n④ 제127조에 따라 원천징수되는 소득으로서 제14조제3항 또는 다른 법률에 따라 제14조제2항에 따른 종합소득과세표준에 합산되지 아니하는 소득이 있는 자는 그 원천징수되는 소득세에 대해서 납세의무를 진다.<개정 2020. 12. 29.>\\n\\n⑤ 공동으로 소유한 자산에 대한 양도소득금액을 계산하는 경우에는 해당 자산을 공동으로 소유하는 각 거주자가 납세의무를 진다.<신설 2017. 12. 19., 2020. 12. 29.>\\n\\n[전문개정 2009. 12. 31.]\\n\\n[제2조에서 이동 <2009. 12. 31.>]')"
      ]
     },
     "execution_count": 15,
     "metadata": {},
     "output_type": "execute_result"
    }
   ],
   "execution_count": 15
  },
  {
   "metadata": {
    "ExecuteTime": {
     "end_time": "2025-09-25T12:58:54.982214Z",
     "start_time": "2025-09-25T12:58:54.550888Z"
    }
   },
   "cell_type": "code",
   "source": [
    "from dotenv import load_dotenv\n",
    "from langchain_upstage import UpstageEmbeddings\n",
    "\n",
    "load_dotenv()\n",
    "\n",
    "embedding = UpstageEmbeddings(model='solar-embedding-1-large')"
   ],
   "id": "21e2a890aed094b3",
   "outputs": [],
   "execution_count": 17
  },
  {
   "metadata": {
    "ExecuteTime": {
     "end_time": "2025-09-25T13:08:15.739206Z",
     "start_time": "2025-09-25T13:07:44.370442Z"
    }
   },
   "cell_type": "code",
   "source": [
    "from langchain_chroma import Chroma\n",
    "\n",
    "# croma 는 인메모리 벡터 디비\n",
    "# persistent_directory: 파일로 저장\n",
    "# collection_name: 테이블 이름\n",
    "database = Chroma.from_documents(\n",
    "    documents=document_list,\n",
    "    embedding=embedding,\n",
    "    collection_name= 'croma-tax',\n",
    "    persist_directory='./chroma'\n",
    ")\n",
    "\n",
    "# database = Chroma.from_documents(collection_name= 'croma-tax', persist_directory='./chroma', embedding=embedding)"
   ],
   "id": "174c2094612275e0",
   "outputs": [],
   "execution_count": 31
  },
  {
   "metadata": {
    "ExecuteTime": {
     "end_time": "2025-09-25T13:02:56.616140Z",
     "start_time": "2025-09-25T13:02:55.751814Z"
    }
   },
   "cell_type": "code",
   "source": [
    "query = '연봉 5천만원인 직장인의 소득세는 얼마인가요?'\n",
    "retrieved_docs = database.similarity_search(query, k=3) # k는 몇 개를 가져올지"
   ],
   "id": "96a04daa1efb3ea9",
   "outputs": [],
   "execution_count": 22
  },
  {
   "metadata": {
    "ExecuteTime": {
     "end_time": "2025-09-25T13:03:03.225043Z",
     "start_time": "2025-09-25T13:03:03.222472Z"
    }
   },
   "cell_type": "code",
   "source": "retrieved_docs",
   "id": "ec62bc625dc4566a",
   "outputs": [
    {
     "data": {
      "text/plain": [
       "[Document(id='7c8790ae-13c8-4d8a-9b05-0da0cbd8e10f', metadata={'source': './tax.docx'}, page_content='2. 2명인 경우: 연 55만원\\n\\n3. 3명 이상인 경우: 연 55만원과 2명을 초과하는 1명당 연 40만원을 합한 금액\\n\\n② 삭제<2017. 12. 19.>\\n\\n③ 해당 과세기간에 출산하거나 입양 신고한 공제대상자녀가 있는 경우 다음 각 호의 구분에 따른 금액을 종합소득산출세액에서 공제한다.<신설 2015. 5. 13., 2016. 12. 20.>\\n\\n1. 출산하거나 입양 신고한 공제대상자녀가 첫째인 경우: 연 30만원\\n\\n2. 출산하거나 입양 신고한 공제대상자녀가 둘째인 경우: 연 50만원\\n\\n3. 출산하거나 입양 신고한 공제대상자녀가 셋째 이상인 경우: 연 70만원\\n\\n④ 제1항 및 제3항에 따른 공제를 “자녀세액공제”라 한다.<신설 2015. 5. 13., 2017. 12. 19.>\\n\\n[본조신설 2014. 1. 1.]\\n\\n[종전 제59조의2는 제59조의5로 이동 <2014. 1. 1.>]\\n\\n\\n\\n제59조의3(연금계좌세액공제) ① 종합소득이 있는 거주자가 연금계좌에 납입한 금액 중 다음 각 호에 해당하는 금액을 제외한 금액(이하 “연금계좌 납입액”이라 한다)의 100분의 12[해당 과세기간에 종합소득과세표준을 계산할 때 합산하는 종합소득금액이 4천 500만원 이하(근로소득만 있는 경우에는 총급여액 5천 500만원 이하)인 거주자에 대해서는 100분의 15]에 해당하는 금액을 해당 과세기간의 종합소득산출세액에서 공제한다. 다만, 연금계좌 중 연금저축계좌에 납입한 금액이 연 600만원을 초과하는 경우에는 그 초과하는 금액은 없는 것으로 하고, 연금저축계좌에 납입한 금액 중 600만원 이내의 금액과 퇴직연금계좌에 납입한 금액을 합한 금액이 연 900만원을 초과하는 경우에는 그 초과하는 금액은 없는 것으로 한다. <개정 2014. 12. 23., 2015. 5. 13., 2016. 12. 20., 2022. 12. 31.>\\n\\n1. 제146조제2항에 따라 소득세가 원천징수되지 아니한 퇴직소득 등 과세가 이연된 소득\\n\\n2. 연금계좌에서 다른 연금계좌로 계약을 이전함으로써 납입되는 금액\\n\\n② 제1항에 따른 공제를 “연금계좌세액공제”라 한다.\\n\\n③ 「조세특례제한법」 제91조의18에 따른 개인종합자산관리계좌의 계약기간이 만료되고 해당 계좌 잔액의 전부 또는 일부를 대통령령으로 정하는 방법으로 연금계좌로 납입한 경우 그 납입한 금액(이하 이 조에서 “전환금액”이라 한다)을 납입한 날이 속하는 과세기간의 연금계좌 납입액에 포함한다.<신설 2019. 12. 31.>\\n\\n④ 전환금액이 있는 경우에는 제1항 각 호 외의 부분 단서에도 불구하고 같은 항을 적용할 때 전환금액의 100분의 10 또는 300만원(직전 과세기간과 해당 과세기간에 걸쳐 납입한 경우에는 300만원에서 직전 과세기간에 적용된 금액을 차감한 금액으로 한다) 중 적은 금액과 제1항 각 호 외의 부분 단서에 따라 연금계좌에 납입한 금액으로 하는 금액을 합한 금액을 초과하는 금액은 없는 것으로 한다.<신설 2019. 12. 31.>'),\n",
       " Document(id='6e1d74b3-154a-4eb3-9d33-88bd4e7938f0', metadata={'source': './tax.docx'}, page_content='제5관 근로소득공제ㆍ연금소득공제 및 퇴직소득공제 <개정 2009. 12. 31.>\\n\\n\\n\\n제47조(근로소득공제) ①근로소득이 있는 거주자에 대해서는 해당 과세기간에 받는 총급여액에서 다음의 금액을 공제한다. 다만, 공제액이 2천만원을 초과하는 경우에는 2천만원을 공제한다. <개정 2012. 1. 1., 2014. 1. 1., 2019. 12. 31.>\\n\\n\\n\\n② 일용근로자에 대한 공제액은 제1항에도 불구하고 1일 15만원으로 한다.<개정 2018. 12. 31.>\\n\\n③ 근로소득이 있는 거주자의 해당 과세기간의 총급여액이 제1항 또는 제2항의 공제액에 미달하는 경우에는 그 총급여액을 공제액으로 한다.\\n\\n④ 제1항부터 제3항까지의 규정에 따른 공제를 “근로소득공제”라 한다.\\n\\n⑤ 제1항의 경우에 2인 이상으로부터 근로소득을 받는 사람(일용근로자는 제외한다)에 대하여는 그 근로소득의 합계액을 총급여액으로 하여 제1항에 따라 계산한 근로소득공제액을 총급여액에서 공제한다.<개정 2010. 12. 27.>\\n\\n⑥ 삭제<2010. 12. 27.>\\n\\n[전문개정 2009. 12. 31.]\\n\\n\\n\\n제47조의2(연금소득공제) ①연금소득이 있는 거주자에 대해서는 해당 과세기간에 받은 총연금액(분리과세연금소득은 제외하며, 이하 이 항에서 같다)에서 다음 표에 규정된 금액을 공제한다. 다만, 공제액이 900만원을 초과하는 경우에는 900만원을 공제한다. <개정 2013. 1. 1.>\\n\\n\\n\\n② 제1항에 따른 공제를 “연금소득공제”라 한다.\\n\\n[전문개정 2009. 12. 31.]\\n\\n\\n\\n제48조(퇴직소득공제) ① 퇴직소득이 있는 거주자에 대해서는 해당 과세기간의 퇴직소득금액에서 제1호의 구분에 따른 금액을 공제하고, 그 금액을 근속연수(1년 미만의 기간이 있는 경우에는 이를 1년으로 보며, 제22조제1항제1호의 경우에는 대통령령으로 정하는 방법에 따라 계산한 연수를 말한다. 이하 같다)로 나누고 12를 곱한 후의 금액(이하 이 항에서 “환산급여”라 한다)에서 제2호의 구분에 따른 금액을 공제한다. <개정 2014. 12. 23., 2022. 12. 31.>\\n\\n1. 근속연수에 따라 정한 다음의 금액\\n\\n\\n\\n2. 환산급여에 따라 정한 다음의 금액\\n\\n\\n\\n② 해당 과세기간의 퇴직소득금액이 제1항제1호에 따른 공제금액에 미달하는 경우에는 그 퇴직소득금액을 공제액으로 한다.<개정 2014. 12. 23.>\\n\\n③ 제1항과 제2항에 따른 공제를 “퇴직소득공제”라 한다.\\n\\n④ 퇴직소득공제의 계산 방법에 관하여 필요한 사항은 대통령령으로 정한다.<개정 2013. 1. 1.>\\n\\n⑤ 삭제<2013. 1. 1.>\\n\\n[전문개정 2009. 12. 31.]\\n\\n\\n\\n제49조 삭제 <2006. 12. 30.>\\n\\n\\n\\n제6관 종합소득공제 <개정 2009. 12. 31.>'),\n",
       " Document(id='a47e0c6d-700b-481f-af30-92c719483239', metadata={'source': './tax.docx'}, page_content='③ 제1항에 따른 공제를 “재해손실세액공제”라 한다.\\n\\n④ 재해손실세액공제를 적용받으려는 자는 대통령령으로 정하는 바에 따라 관할 세무서장에게 신청할 수 있다.\\n\\n⑤ 관할 세무서장이 제4항의 신청을 받았을 때에는 그 공제할 세액을 결정하여 신청인에게 알려야 한다.\\n\\n⑥ 제4항의 신청이 없는 경우에도 제1항을 적용한다.\\n\\n⑦ 집단적으로 재해가 발생한 경우에는 대통령령으로 정하는 바에 따라 관할 세무서장이 조사결정한 자산상실비율에 따라 제1항을 적용한다.\\n\\n⑧ 재해손실세액공제에 관하여 필요한 사항은 대통령령으로 정한다.\\n\\n[전문개정 2009. 12. 31.]\\n\\n\\n\\n제59조(근로소득세액공제) ①근로소득이 있는 거주자에 대해서는 그 근로소득에 대한 종합소득산출세액에서 다음의 금액을 공제한다. <개정 2014. 1. 1., 2015. 5. 13.>\\n\\n\\n\\n② 제1항에도 불구하고 공제세액이 다음 각 호의 구분에 따른 금액을 초과하는 경우에 그 초과하는 금액은 없는 것으로 한다.<신설 2014. 1. 1., 2015. 5. 13., 2022. 12. 31.>\\n\\n1. 총급여액이 3천 300만원 이하인 경우: 74만원\\n\\n2. 총급여액이 3천 300만원 초과 7천만원 이하인 경우: 74만원 - [(총급여액 - 3천 300만원) × 8/1000]. 다만, 위 금액이 66만원보다 적은 경우에는 66만원으로 한다.\\n\\n3. 총급여액이 7천만원 초과 1억2천만원 이하인 경우: 66만원 - [(총급여액 - 7천만원) × 1/2]. 다만, 위 금액이 50만원보다 적은 경우에는 50만원으로 한다.\\n\\n4. 총급여액이 1억2천만원을 초과하는 경우: 50만원 - [(총급여액 - 1억2천만원) × 1/2]. 다만, 위 금액이 20만원보다 적은 경우에는 20만원으로 한다.\\n\\n③ 일용근로자의 근로소득에 대해서 제134조제3항에 따른 원천징수를 하는 경우에는 해당 근로소득에 대한 산출세액의 100분의 55에 해당하는 금액을 그 산출세액에서 공제한다.<개정 2014. 1. 1.>\\n\\n[전문개정 2012. 1. 1.]\\n\\n\\n\\n제59조의2(자녀세액공제) ①종합소득이 있는 거주자의 기본공제대상자에 해당하는 자녀(입양자 및 위탁아동을 포함하며, 이하 이 조에서 “공제대상자녀”라 한다) 및 손자녀로서 8세 이상의 사람에 대해서는 다음 각 호의 구분에 따른 금액을 종합소득산출세액에서 공제한다. <개정 2015. 5. 13., 2017. 12. 19., 2018. 12. 31., 2019. 12. 31., 2022. 12. 31., 2023. 12. 31., 2024. 12. 31.>\\n\\n1. 1명인 경우: 연 25만원\\n\\n2. 2명인 경우: 연 55만원\\n\\n3. 3명 이상인 경우: 연 55만원과 2명을 초과하는 1명당 연 40만원을 합한 금액\\n\\n② 삭제<2017. 12. 19.>\\n\\n③ 해당 과세기간에 출산하거나 입양 신고한 공제대상자녀가 있는 경우 다음 각 호의 구분에 따른 금액을 종합소득산출세액에서 공제한다.<신설 2015. 5. 13., 2016. 12. 20.>')]"
      ]
     },
     "execution_count": 24,
     "metadata": {},
     "output_type": "execute_result"
    }
   ],
   "execution_count": 24
  },
  {
   "metadata": {
    "ExecuteTime": {
     "end_time": "2025-09-25T13:03:36.386922Z",
     "start_time": "2025-09-25T13:03:36.355049Z"
    }
   },
   "cell_type": "code",
   "source": [
    "from langchain_upstage import ChatUpstage\n",
    "\n",
    "llm = ChatUpstage()"
   ],
   "id": "9b518dfe7dfe623f",
   "outputs": [],
   "execution_count": 25
  },
  {
   "metadata": {
    "ExecuteTime": {
     "end_time": "2025-09-25T13:04:43.092084Z",
     "start_time": "2025-09-25T13:04:43.090228Z"
    }
   },
   "cell_type": "code",
   "source": [
    "prompt = f\"\"\"[Identity]\n",
    "- 당신은 최고의 한국 소득세 전문가 입니다.\n",
    "- [Context]를 참고해서 사용자의 질문에 답변해주세요.\n",
    "\n",
    "[Context]\n",
    "{retrieved_docs}\n",
    "\n",
    "Question: {query}\n",
    "\"\"\""
   ],
   "id": "33685dc2e1918491",
   "outputs": [],
   "execution_count": 26
  },
  {
   "metadata": {
    "ExecuteTime": {
     "end_time": "2025-09-25T13:05:04.451100Z",
     "start_time": "2025-09-25T13:04:59.699865Z"
    }
   },
   "cell_type": "code",
   "source": "ai_message = llm.invoke(prompt)",
   "id": "79a96a02f28d7fcf",
   "outputs": [],
   "execution_count": 28
  },
  {
   "metadata": {
    "ExecuteTime": {
     "end_time": "2025-09-25T13:08:41.441178Z",
     "start_time": "2025-09-25T13:08:41.439313Z"
    }
   },
   "cell_type": "code",
   "source": "print(ai_message.content)",
   "id": "c13a77bd2416082",
   "outputs": [
    {
     "name": "stdout",
     "output_type": "stream",
     "text": [
      "연봉 5,000만원인 직장인의 소득세를 계산하기 위해서는 다음과 같은 단계를 거쳐야 합니다.\n",
      "\n",
      "1. **근로소득공제**: 총급여액 5,000만원에서 공제액 2,500만원을 뺀 2,500만원이 근로소득이 됩니다.\n",
      "\n",
      "2. **기본세율 적용**: 근로소득 2,500만원에 대해 기본세율을 적용합니다. 2023년 현재 소득세율은 다음과 같습니다.\n",
      "   - 1,200만원 이하: 6%\n",
      "   - 1,200만원 초과 4,600만원 이하: 15%\n",
      "\n",
      "   따라서, 2,500만원에 대해 세금을 계산하면:\n",
      "   - 1,200만원까지: 1,200만원 x 6% = 72만원\n",
      "   - 1,200만원 초과분: 1,300만원 x 15% = 195만원\n",
      "\n",
      "   총 근로소득세: 72만원 + 195만원 = 267만원\n",
      "\n",
      "3. **근로소득세액공제**: 총급여액이 3,300만원 초과 7,000만원 이하이므로, 74만원 - [(총급여액 - 3,300만원) x 8/1,000] = 74만원 - 48만원 = 26만원\n",
      "\n",
      "   따라서, 공제 후 근로소득세는 267만원 - 26만원 = 241만원입니다.\n",
      "\n",
      "4. **기타 공제사항**: 질문에서 기타 공제사항(예: 표준세액공제, 자녀세액공제, 연금계좌세액공제 등)에 대한 정보가 없으므로, 본 답변에서는 이를 고려하지 않습니다.\n",
      "\n",
      "따라서, 연봉 5,000만원인 직장인의 소득세는 기본세율 적용 후 근로소득세액공제를 고려하여 241만원이 됩니다.\n",
      "\n",
      "**주의**: 실제 소득세 계산 시에는 다양한 공제사항이 추가로 적용될 수 있으므로, 정확한 계산을 위해서는 개인의 구체적인 상황을 고려해야 합니다.\n"
     ]
    }
   ],
   "execution_count": 32
  },
  {
   "metadata": {
    "ExecuteTime": {
     "end_time": "2025-09-25T13:11:20.239390Z",
     "start_time": "2025-09-25T13:11:19.960761Z"
    }
   },
   "cell_type": "code",
   "source": [
    "from langchain import hub\n",
    "\n",
    "prompt = hub.pull(\"rlm/rag-prompt\")"
   ],
   "id": "a1649ebf0b94bbe9",
   "outputs": [],
   "execution_count": 33
  },
  {
   "metadata": {
    "ExecuteTime": {
     "end_time": "2025-09-25T13:11:28.745963Z",
     "start_time": "2025-09-25T13:11:28.743701Z"
    }
   },
   "cell_type": "code",
   "source": "prompt",
   "id": "8ee1e53524fc9e04",
   "outputs": [
    {
     "data": {
      "text/plain": [
       "ChatPromptTemplate(input_variables=['context', 'question'], input_types={}, partial_variables={}, metadata={'lc_hub_owner': 'rlm', 'lc_hub_repo': 'rag-prompt', 'lc_hub_commit_hash': '50442af133e61576e74536c6556cefe1fac147cad032f4377b60c436e6cdcb6e'}, messages=[HumanMessagePromptTemplate(prompt=PromptTemplate(input_variables=['context', 'question'], input_types={}, partial_variables={}, template=\"You are an assistant for question-answering tasks. Use the following pieces of retrieved context to answer the question. If you don't know the answer, just say that you don't know. Use three sentences maximum and keep the answer concise.\\nQuestion: {question} \\nContext: {context} \\nAnswer:\"), additional_kwargs={})])"
      ]
     },
     "execution_count": 34,
     "metadata": {},
     "output_type": "execute_result"
    }
   ],
   "execution_count": 34
  },
  {
   "metadata": {
    "ExecuteTime": {
     "end_time": "2025-09-25T13:14:54.042114Z",
     "start_time": "2025-09-25T13:14:53.976495Z"
    }
   },
   "cell_type": "code",
   "source": [
    "from langchain.chains import RetrievalQA\n",
    "\n",
    "qa_chain = RetrievalQA.from_chain_type(\n",
    "    llm=llm,\n",
    "    retriever=database.as_retriever(),\n",
    "    chain_type_kwargs={\"prompt\": prompt}\n",
    ")"
   ],
   "id": "eb8eccb2eea50b9a",
   "outputs": [],
   "execution_count": 36
  },
  {
   "metadata": {
    "ExecuteTime": {
     "end_time": "2025-09-25T13:16:05.370838Z",
     "start_time": "2025-09-25T13:16:03.965504Z"
    }
   },
   "cell_type": "code",
   "source": "ai_message = qa_chain.invoke({\"query\": query})",
   "id": "8d0c20ace5f4e918",
   "outputs": [],
   "execution_count": 38
  },
  {
   "metadata": {
    "ExecuteTime": {
     "end_time": "2025-09-25T13:16:11.167865Z",
     "start_time": "2025-09-25T13:16:11.165782Z"
    }
   },
   "cell_type": "code",
   "source": "ai_message",
   "id": "c3beee6378a3079",
   "outputs": [
    {
     "data": {
      "text/plain": [
       "{'query': '연봉 5천만원인 직장인의 소득세는 얼마인가요?',\n",
       " 'result': '연봉 5천만원인 직장인의 자녀세액공제는 55만원입니다. 이는 공제대상자녀가 2명인 경우에 해당하는 금액입니다.'}"
      ]
     },
     "execution_count": 39,
     "metadata": {},
     "output_type": "execute_result"
    }
   ],
   "execution_count": 39
  },
  {
   "metadata": {},
   "cell_type": "code",
   "outputs": [],
   "execution_count": null,
   "source": "",
   "id": "4357f96ffce2d326"
  }
 ],
 "metadata": {
  "kernelspec": {
   "display_name": "Python 3",
   "language": "python",
   "name": "python3"
  },
  "language_info": {
   "codemirror_mode": {
    "name": "ipython",
    "version": 2
   },
   "file_extension": ".py",
   "mimetype": "text/x-python",
   "name": "python",
   "nbconvert_exporter": "python",
   "pygments_lexer": "ipython2",
   "version": "2.7.6"
  }
 },
 "nbformat": 4,
 "nbformat_minor": 5
}
