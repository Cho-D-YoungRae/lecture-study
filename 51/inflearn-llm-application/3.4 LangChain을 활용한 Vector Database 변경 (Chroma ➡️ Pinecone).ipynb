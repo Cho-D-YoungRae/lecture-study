{
 "cells": [
  {
   "metadata": {},
   "cell_type": "markdown",
   "source": [
    "chroma 는 메모리 데이터베이스여서 데이터가 날아감 -> pinecone 사용할 수 있음\n",
    "\n",
    "langchain을 사용하면 벡터데이터베이스 부분만 변경하면 간단히 변경 가능"
   ],
   "id": "65991d6230582927"
  },
  {
   "metadata": {
    "ExecuteTime": {
     "end_time": "2025-09-26T00:12:50.957653Z",
     "start_time": "2025-09-26T00:12:50.714583Z"
    }
   },
   "cell_type": "code",
   "source": [
    "from langchain_community.document_loaders import Docx2txtLoader\n",
    "from langchain_text_splitters import RecursiveCharacterTextSplitter"
   ],
   "id": "d78aa30e599c06cf",
   "outputs": [],
   "execution_count": 1
  },
  {
   "metadata": {
    "ExecuteTime": {
     "end_time": "2025-09-26T00:12:55.782960Z",
     "start_time": "2025-09-26T00:12:54.516398Z"
    }
   },
   "cell_type": "code",
   "source": [
    "text_splitter = RecursiveCharacterTextSplitter(\n",
    "    chunk_size = 1500,\n",
    "    chunk_overlap = 200,\n",
    ")\n",
    "\n",
    "loader = Docx2txtLoader('./tax.docx')\n",
    "document_list = loader.load_and_split(text_splitter=text_splitter)"
   ],
   "id": "85dbe5d5f2adca2b",
   "outputs": [],
   "execution_count": 2
  },
  {
   "metadata": {
    "ExecuteTime": {
     "end_time": "2025-09-26T00:13:12.524289Z",
     "start_time": "2025-09-26T00:13:12.100400Z"
    }
   },
   "cell_type": "code",
   "source": "len(document_list)",
   "id": "209d7bccc715c9d4",
   "outputs": [],
   "execution_count": 5
  },
  {
   "metadata": {
    "ExecuteTime": {
     "end_time": "2025-09-26T00:12:59.731162Z",
     "start_time": "2025-09-26T00:12:59.728406Z"
    }
   },
   "cell_type": "code",
   "source": "document_list[1]",
   "id": "65f0caa5e58bd1a3",
   "outputs": [
    {
     "data": {
      "text/plain": [
       "Document(metadata={'source': './tax.docx'}, page_content='1. 구성원 간 이익의 분배비율이 정하여져 있고 해당 구성원별로 이익의 분배비율이 확인되는 경우\\n\\n2. 구성원 간 이익의 분배비율이 정하여져 있지 아니하나 사실상 구성원별로 이익이 분배되는 것으로 확인되는 경우\\n\\n④ 제3항에도 불구하고 해당 단체의 전체 구성원 중 일부 구성원의 분배비율만 확인되거나 일부 구성원에게만 이익이 분배되는 것으로 확인되는 경우에는 다음 각 호의 구분에 따라 소득세 또는 법인세를 납부할 의무를 진다.<신설 2018. 12. 31.>\\n\\n1. 확인되는 부분: 해당 구성원별로 소득세 또는 법인세에 대한 납세의무 부담\\n\\n2. 확인되지 아니하는 부분: 해당 단체를 1거주자 또는 1비거주자로 보아 소득세에 대한 납세의무 부담\\n\\n⑤ 제3항 및 제4항에도 불구하고 법인으로 보는 단체 외의 법인 아닌 단체에 해당하는 국외투자기구(투자권유를 하여 모은 금전 등을 가지고 재산적 가치가 있는 투자대상자산을 취득, 처분하거나 그 밖의 방법으로 운용하고 그 결과를 투자자에게 배분하여 귀속시키는 투자행위를 하는 기구로서 국외에서 설립된 기구를 말한다. 이하 같다)를 제119조의2제1항제2호에 따라 국내원천소득의 실질귀속자로 보는 경우 그 국외투자기구는 1비거주자로서 소득세를 납부할 의무를 진다.<신설 2018. 12. 31.>\\n\\n[전문개정 2009. 12. 31.]\\n\\n[제1조에서 이동, 종전 제2조는 제2조의2로 이동 <2009. 12. 31.>]\\n\\n\\n\\n제2조의2(납세의무의 범위) ① 제43조에 따라 공동사업에 관한 소득금액을 계산하는 경우에는 해당 공동사업자별로 납세의무를 진다. 다만, 제43조제3항에 따른 주된 공동사업자(이하 이 항에서 “주된 공동사업자”라 한다)에게 합산과세되는 경우 그 합산과세되는 소득금액에 대해서는 주된 공동사업자의 특수관계인은 같은 조 제2항에 따른 손익분배비율에 해당하는 그의 소득금액을 한도로 주된 공동사업자와 연대하여 납세의무를 진다. <개정 2012. 1. 1., 2013. 1. 1.>\\n\\n② 제44조에 따라 피상속인의 소득금액에 대해서 과세하는 경우에는 그 상속인이 납세의무를 진다.\\n\\n③ 제101조제2항에 따라 증여자가 자산을 직접 양도한 것으로 보는 경우 그 양도소득에 대해서는 증여자와 증여받은 자가 연대하여 납세의무를 진다.<개정 2020. 12. 29.>\\n\\n④ 제127조에 따라 원천징수되는 소득으로서 제14조제3항 또는 다른 법률에 따라 제14조제2항에 따른 종합소득과세표준에 합산되지 아니하는 소득이 있는 자는 그 원천징수되는 소득세에 대해서 납세의무를 진다.<개정 2020. 12. 29.>\\n\\n⑤ 공동으로 소유한 자산에 대한 양도소득금액을 계산하는 경우에는 해당 자산을 공동으로 소유하는 각 거주자가 납세의무를 진다.<신설 2017. 12. 19., 2020. 12. 29.>\\n\\n[전문개정 2009. 12. 31.]\\n\\n[제2조에서 이동 <2009. 12. 31.>]')"
      ]
     },
     "execution_count": 4,
     "metadata": {},
     "output_type": "execute_result"
    }
   ],
   "execution_count": 4
  },
  {
   "metadata": {
    "ExecuteTime": {
     "end_time": "2025-09-26T00:16:33.175074Z",
     "start_time": "2025-09-26T00:15:45.457257Z"
    }
   },
   "cell_type": "code",
   "source": [
    "from dotenv import load_dotenv\n",
    "from langchain_upstage import UpstageEmbeddings\n",
    "\n",
    "load_dotenv()\n",
    "\n",
    "embedding = UpstageEmbeddings(model='solar-embedding-1-large')"
   ],
   "id": "21e2a890aed094b3",
   "outputs": [
    {
     "name": "stderr",
     "output_type": "stream",
     "text": [
      "/Users/choyoungrae/Desktop/lecture-study/51/inflearn-llm-application/.venv/lib/python3.12/site-packages/tqdm/auto.py:21: TqdmWarning: IProgress not found. Please update jupyter and ipywidgets. See https://ipywidgets.readthedocs.io/en/stable/user_install.html\n",
      "  from .autonotebook import tqdm as notebook_tqdm\n",
      "/Users/choyoungrae/Desktop/lecture-study/51/inflearn-llm-application/.venv/lib/python3.12/site-packages/langchain_pinecone/__init__.py:3: LangChainDeprecationWarning: As of langchain-core 0.3.0, LangChain uses pydantic v2 internally. The langchain_core.pydantic_v1 module was a compatibility shim for pydantic v1, and should no longer be used. Please update the code to import from Pydantic directly.\n",
      "\n",
      "For example, replace imports like: `from langchain_core.pydantic_v1 import BaseModel`\n",
      "with: `from pydantic import BaseModel`\n",
      "or the v1 compatibility namespace if you are working in a code base that has not been fully upgraded to pydantic 2 yet. \tfrom pydantic.v1 import BaseModel\n",
      "\n",
      "  from langchain_pinecone.vectorstores import Pinecone, PineconeVectorStore\n"
     ]
    }
   ],
   "execution_count": 6
  },
  {
   "metadata": {
    "ExecuteTime": {
     "end_time": "2025-09-26T00:47:25.561481Z",
     "start_time": "2025-09-26T00:47:23.495580Z"
    }
   },
   "cell_type": "markdown",
   "source": "[3.2 코드](3.2%20LangChain과%20Chroma를%20활용한%20RAG%20구성.ipynb)에서 여기 벡터데이터베이스 부분만 변경하면 됨",
   "id": "6cb57510b179f29a"
  },
  {
   "metadata": {
    "ExecuteTime": {
     "end_time": "2025-09-26T00:48:25.395465Z",
     "start_time": "2025-09-26T00:48:25.361073Z"
    }
   },
   "cell_type": "code",
   "source": [
    "import os\n",
    "\n",
    "from pinecone import Pinecone\n",
    "from langchain_pinecone import PineconeVectorStore\n",
    "\n",
    "index_name = 'tax-index'\n",
    "pinecone_api_key = os.environ.get(\"PINECONE_API_KEY\")\n",
    "pc = Pinecone(api_key=pinecone_api_key)\n",
    "\n",
    "\n",
    "database = PineconeVectorStore.from_documents(document_list, embedding, index_name=index_name)"
   ],
   "id": "174c2094612275e0",
   "outputs": [],
   "execution_count": 8
  },
  {
   "metadata": {
    "ExecuteTime": {
     "end_time": "2025-09-26T00:48:26.506808Z",
     "start_time": "2025-09-26T00:48:26.504858Z"
    }
   },
   "cell_type": "code",
   "source": [
    "query = '연봉 5천만원인 직장인의 소득세는 얼마인가요?'\n",
    "retrieved_docs = database.similarity_search(query, k=3) # k는 몇 개를 가져올지"
   ],
   "id": "96a04daa1efb3ea9",
   "outputs": [],
   "execution_count": 9
  },
  {
   "metadata": {
    "ExecuteTime": {
     "end_time": "2025-09-26T00:48:31.819274Z",
     "start_time": "2025-09-26T00:48:27.778752Z"
    }
   },
   "cell_type": "code",
   "source": "retrieved_docs",
   "id": "ec62bc625dc4566a",
   "outputs": [],
   "execution_count": 10
  },
  {
   "metadata": {
    "ExecuteTime": {
     "end_time": "2025-09-26T00:48:32.537035Z",
     "start_time": "2025-09-26T00:48:32.535250Z"
    }
   },
   "cell_type": "code",
   "source": [
    "from langchain_upstage import ChatUpstage\n",
    "\n",
    "llm = ChatUpstage()"
   ],
   "id": "9b518dfe7dfe623f",
   "outputs": [
    {
     "name": "stdout",
     "output_type": "stream",
     "text": [
      "연봉 5천만원인 직장인의 소득세를 계산하기 위해서는 다음과 같은 과정을 거칩니다.\n",
      "\n",
      "1. **근로소득공제**: 총급여액인 5천만원에서 근로소득공제액을 차감합니다. 근로소득공제액은 총급여액에 따라 달라지며, 5천만원의 경우 120만원입니다. 따라서 과세표준은 4,880만원이 됩니다.\n",
      "\n",
      "2. **세율 적용**: 과세표준인 4,880만원에 대해 세율을 적용합니다. 2024년 세율에 따르면, 1,400만원 초과 5,000만원 이하의 소득에 대해서는 15%의 세율이 적용됩니다.\n",
      "\n",
      "3. **산출세액 계산**: 과세표준에 세율을 곱하여 산출세액을 계산합니다. 4,880만원 x 15% = 732만원입니다.\n",
      "\n",
      "4. **세액공제 적용**: 근로소득세액공제를 적용합니다. 총급여액이 5천만원인 경우, 공제세액은 50만원입니다.\n",
      "\n",
      "5. **최종 납부할 소득세**: 산출세액에서 세액공제를 차감하여 최종 납부할 소득세를 계산합니다. 732만원 - 50만원 = 682만원입니다.\n",
      "\n",
      "따라서, 연봉 5천만원인 직장인의 최종 납부할 소득세는 약 682만원입니다. 하지만, 실제 납부할 소득세는 다른 소득, 공제항목 등에 따라 달라질 수 있으므로, 국세청의 소득세 계산기를 이용하거나 세무 전문가와 상담하는 것이 좋습니다.\n"
     ]
    }
   ],
   "execution_count": 11
  },
  {
   "metadata": {
    "ExecuteTime": {
     "end_time": "2025-09-26T00:48:42.762530Z",
     "start_time": "2025-09-26T00:48:42.508911Z"
    }
   },
   "cell_type": "code",
   "source": [
    "prompt = f\"\"\"[Identity]\n",
    "- 당신은 최고의 한국 소득세 전문가 입니다.\n",
    "- [Context]를 참고해서 사용자의 질문에 답변해주세요.\n",
    "\n",
    "[Context]\n",
    "{retrieved_docs}\n",
    "\n",
    "Question: {query}\n",
    "\"\"\""
   ],
   "id": "33685dc2e1918491",
   "outputs": [],
   "execution_count": 12
  },
  {
   "metadata": {
    "ExecuteTime": {
     "end_time": "2025-09-26T00:48:43.265498Z",
     "start_time": "2025-09-26T00:48:43.262764Z"
    }
   },
   "cell_type": "code",
   "source": "ai_message = llm.invoke(prompt)",
   "id": "79a96a02f28d7fcf",
   "outputs": [
    {
     "data": {
      "text/plain": [
       "ChatPromptTemplate(input_variables=['context', 'question'], input_types={}, partial_variables={}, metadata={'lc_hub_owner': 'rlm', 'lc_hub_repo': 'rag-prompt', 'lc_hub_commit_hash': '50442af133e61576e74536c6556cefe1fac147cad032f4377b60c436e6cdcb6e'}, messages=[HumanMessagePromptTemplate(prompt=PromptTemplate(input_variables=['context', 'question'], input_types={}, partial_variables={}, template=\"You are an assistant for question-answering tasks. Use the following pieces of retrieved context to answer the question. If you don't know the answer, just say that you don't know. Use three sentences maximum and keep the answer concise.\\nQuestion: {question} \\nContext: {context} \\nAnswer:\"), additional_kwargs={})])"
      ]
     },
     "execution_count": 13,
     "metadata": {},
     "output_type": "execute_result"
    }
   ],
   "execution_count": 13
  },
  {
   "metadata": {
    "ExecuteTime": {
     "end_time": "2025-09-26T00:48:44.070584Z",
     "start_time": "2025-09-26T00:48:44.000973Z"
    }
   },
   "cell_type": "code",
   "source": "print(ai_message.content)",
   "id": "c13a77bd2416082",
   "outputs": [],
   "execution_count": 14
  },
  {
   "metadata": {
    "ExecuteTime": {
     "end_time": "2025-09-26T00:48:49.747445Z",
     "start_time": "2025-09-26T00:48:45.819124Z"
    }
   },
   "cell_type": "code",
   "source": [
    "from langchain import hub\n",
    "\n",
    "prompt = hub.pull(\"rlm/rag-prompt\")"
   ],
   "id": "a1649ebf0b94bbe9",
   "outputs": [],
   "execution_count": 15
  },
  {
   "metadata": {
    "ExecuteTime": {
     "end_time": "2025-09-26T00:48:49.760861Z",
     "start_time": "2025-09-26T00:48:49.757555Z"
    }
   },
   "cell_type": "code",
   "source": "prompt",
   "id": "8ee1e53524fc9e04",
   "outputs": [
    {
     "data": {
      "text/plain": [
       "{'query': '연봉 5천만원인 직장인의 소득세는 얼마인가요?',\n",
       " 'result': '연봉 5천만원인 직장인의 경우, 소득세는 근로소득세를 계산해야 합니다. 근로소득세는 총급여액에서 근로소득공제를 뺀 후, 세율을 적용하여 계산합니다. 연봉 5천만원의 경우, 근로소득공제로 총급여액에서 약 1,200만원을 공제할 수 있습니다. 그 결과 과세표준이 약 3,800만원이 되고, 이 금액에 기본세율을 적용하면 산출세액이 나옵니다. 이후 세액공제와 세액감면을 적용하면 실제 납부해야 할 소득세를 알 수 있습니다. 정확한 금액은 개인의 상황에 따라 다를 수 있으므로 국세청 홈페이지나 세무사를 통해 계산하는 것이 정확합니다.'}"
      ]
     },
     "execution_count": 16,
     "metadata": {},
     "output_type": "execute_result"
    }
   ],
   "execution_count": 16
  },
  {
   "metadata": {
    "ExecuteTime": {
     "end_time": "2025-09-25T13:14:54.042114Z",
     "start_time": "2025-09-25T13:14:53.976495Z"
    }
   },
   "cell_type": "code",
   "source": [
    "from langchain.chains import RetrievalQA\n",
    "\n",
    "qa_chain = RetrievalQA.from_chain_type(\n",
    "    llm=llm,\n",
    "    retriever=database.as_retriever(),\n",
    "    chain_type_kwargs={\"prompt\": prompt}\n",
    ")"
   ],
   "id": "eb8eccb2eea50b9a",
   "outputs": [],
   "execution_count": 36
  },
  {
   "metadata": {
    "ExecuteTime": {
     "end_time": "2025-09-25T13:16:05.370838Z",
     "start_time": "2025-09-25T13:16:03.965504Z"
    }
   },
   "cell_type": "code",
   "source": "ai_message = qa_chain.invoke({\"query\": query})",
   "id": "8d0c20ace5f4e918",
   "outputs": [],
   "execution_count": 38
  },
  {
   "metadata": {
    "ExecuteTime": {
     "end_time": "2025-09-25T13:16:11.167865Z",
     "start_time": "2025-09-25T13:16:11.165782Z"
    }
   },
   "cell_type": "code",
   "source": "ai_message",
   "id": "c3beee6378a3079",
   "outputs": [
    {
     "data": {
      "text/plain": [
       "{'query': '연봉 5천만원인 직장인의 소득세는 얼마인가요?',\n",
       " 'result': '연봉 5천만원인 직장인의 자녀세액공제는 55만원입니다. 이는 공제대상자녀가 2명인 경우에 해당하는 금액입니다.'}"
      ]
     },
     "execution_count": 39,
     "metadata": {},
     "output_type": "execute_result"
    }
   ],
   "execution_count": 39
  },
  {
   "metadata": {},
   "cell_type": "code",
   "outputs": [],
   "execution_count": null,
   "source": "",
   "id": "4357f96ffce2d326"
  }
 ],
 "metadata": {
  "kernelspec": {
   "display_name": "Python 3",
   "language": "python",
   "name": "python3"
  },
  "language_info": {
   "codemirror_mode": {
    "name": "ipython",
    "version": 2
   },
   "file_extension": ".py",
   "mimetype": "text/x-python",
   "name": "python",
   "nbconvert_exporter": "python",
   "pygments_lexer": "ipython2",
   "version": "2.7.6"
  }
 },
 "nbformat": 4,
 "nbformat_minor": 5
}
