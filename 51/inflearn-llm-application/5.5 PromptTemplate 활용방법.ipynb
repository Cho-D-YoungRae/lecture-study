{
 "cells": [
  {
   "cell_type": "code",
   "id": "initial_id",
   "metadata": {
    "collapsed": true,
    "ExecuteTime": {
     "end_time": "2025-09-29T22:08:09.232871Z",
     "start_time": "2025-09-29T22:08:09.227072Z"
    }
   },
   "source": [
    "from dotenv import load_dotenv\n",
    "\n",
    "load_dotenv()"
   ],
   "outputs": [
    {
     "data": {
      "text/plain": [
       "True"
      ]
     },
     "execution_count": 1,
     "metadata": {},
     "output_type": "execute_result"
    }
   ],
   "execution_count": 1
  },
  {
   "metadata": {
    "ExecuteTime": {
     "end_time": "2025-09-29T22:12:44.437604Z",
     "start_time": "2025-09-29T22:12:42.032025Z"
    }
   },
   "cell_type": "code",
   "source": [
    "from langchain_upstage import ChatUpstage\n",
    "\n",
    "llm = ChatUpstage()\n",
    "query = '인프런에는 어떤 강의가 있나요?'\n",
    "llm.invoke(query)\n"
   ],
   "id": "a11343461549bcc3",
   "outputs": [
    {
     "data": {
      "text/plain": [
       "AIMessage(content='인프런에는 다양한 분야의 강의가 준비되어 있습니다. 주요 카테고리는 다음과 같습니다:\\n\\n1. **프로그래밍**: 웹 개발, 모바일 개발, 데이터 과학, 머신러닝, 클라우드 컴퓨팅 등 다양한 프로그래밍 관련 강좌가 있습니다.\\n2. **디자인**: UI/UX 디자인, 그래픽 디자인, 웹 디자인 등 디자인 관련 강의가 있습니다.\\n3. **비즈니스**: 마케팅, 경영, 재무, 인사 등 비즈니스 관련 강좌가 있습니다.\\n4. **인문학**: 철학, 심리학, 역사 등 인문학 관련 강의가 있습니다.\\n5. **생활**: 요리, 건강, 여행 등 생활 관련 강좌가 있습니다.\\n6. **기타**: 사진, 음악, 영상 편집 등 다양한 주제의 강의가 있습니다.\\n\\n이 외에도 많은 전문 분야의 강의가 있으니, 관심 있는 주제를 검색해 보시면 좋을 것 같습니다.', additional_kwargs={'refusal': None}, response_metadata={'token_usage': {'completion_tokens': 182, 'prompt_tokens': 19, 'total_tokens': 201, 'completion_tokens_details': {'accepted_prediction_tokens': 0, 'audio_tokens': 0, 'reasoning_tokens': 0, 'rejected_prediction_tokens': 0}, 'prompt_tokens_details': {'audio_tokens': 0, 'cached_tokens': 0}}, 'model_name': 'solar-mini-250422', 'system_fingerprint': None, 'id': 'bc385a96-f144-45b4-8e5e-454ac1188fd8', 'service_tier': None, 'finish_reason': 'stop', 'logprobs': None}, id='run--358773cb-42aa-4cc0-a3b2-66145471c7b8-0', usage_metadata={'input_tokens': 19, 'output_tokens': 182, 'total_tokens': 201, 'input_token_details': {'audio': 0, 'cache_read': 0}, 'output_token_details': {'audio': 0, 'reasoning': 0}})"
      ]
     },
     "execution_count": 7,
     "metadata": {},
     "output_type": "execute_result"
    }
   ],
   "execution_count": 7
  },
  {
   "metadata": {
    "ExecuteTime": {
     "end_time": "2025-09-29T22:10:33.363207Z",
     "start_time": "2025-09-29T22:10:30.992114Z"
    }
   },
   "cell_type": "code",
   "source": [
    "question = '인프런에는 어떤 강의가 있나요?'\n",
    "text_prompt = f'아래 질문에 답변해주세요:\\n\\n{question}'\n",
    "llm.invoke(text_prompt)"
   ],
   "id": "6b4decb91029b5e0",
   "outputs": [
    {
     "data": {
      "text/plain": [
       "AIMessage(content='인프런은 다양한 분야의 온라인 강의 플랫폼을 제공하고 있습니다. 주요 강의 카테고리는 다음과 같습니다:\\n\\n1. **프로그래밍**: 웹 개발, 모바일 앱 개발, 게임 개발, 데이터 사이언스, 인공지능, 머신러닝 등 다양한 프로그래밍 관련 강의가 있습니다.\\n\\n2. **디자인**: UI/UX 디자인, 그래픽 디자인, 웹 디자인, 모션 그래픽 등 디자인 관련 강의가 제공됩니다.\\n\\n3. **비즈니스**: 마케팅, 재무, 경영, 창업, 비즈니스 스킬 등 비즈니스 관련 강의가 있습니다.\\n\\n4. **생활**: 요리, 건강, 취미, 여행 등 생활 관련 강의가 제공됩니다.\\n\\n5. **인문교양**: 역사, 철학, 사회, 문화 등 인문교양 관련 강의가 있습니다.\\n\\n6. **기타**: 사진, 영상, 음악, 언어 등 다양한 기타 분야의 강의가 있습니다.\\n\\n이 외에도 특정 기술이나 도구에 대한 전문적인 강의도 많이 제공됩니다. 인프런에서는 각 분야의 전문가들이 강의를 진행하고 있으며, 사용자들은 자신의 관심 분야와 수준에 맞는 강의를 선택할 수 있습니다.', additional_kwargs={'refusal': None}, response_metadata={'token_usage': {'completion_tokens': 225, 'prompt_tokens': 26, 'total_tokens': 251, 'completion_tokens_details': {'accepted_prediction_tokens': 0, 'audio_tokens': 0, 'reasoning_tokens': 0, 'rejected_prediction_tokens': 0}, 'prompt_tokens_details': {'audio_tokens': 0, 'cached_tokens': 0}}, 'model_name': 'solar-mini-250422', 'system_fingerprint': None, 'id': '26dc1881-f42a-47a9-9a03-d0f2a2eb853a', 'service_tier': None, 'finish_reason': 'stop', 'logprobs': None}, id='run--5f64b6ea-e761-4297-8800-5b16db45941d-0', usage_metadata={'input_tokens': 26, 'output_tokens': 225, 'total_tokens': 251, 'input_token_details': {'audio': 0, 'cache_read': 0}, 'output_token_details': {'audio': 0, 'reasoning': 0}})"
      ]
     },
     "execution_count": 4,
     "metadata": {},
     "output_type": "execute_result"
    }
   ],
   "execution_count": 4
  },
  {
   "metadata": {
    "ExecuteTime": {
     "end_time": "2025-09-29T22:13:46.085373Z",
     "start_time": "2025-09-29T22:13:42.588360Z"
    }
   },
   "cell_type": "code",
   "source": [
    "from langchain_core.prompts import PromptTemplate\n",
    "\n",
    "prompt_with_template = '아래 질문에 답변해주세요:\\n\\n{question}'\n",
    "prompt_template = PromptTemplate(template=prompt_with_template, input_variables=['question'])\n",
    "prompt = prompt_template.invoke({'question': question})\n",
    "print(prompt)\n",
    "print(\"-----\")\n",
    "print(llm.invoke(prompt))"
   ],
   "id": "bc2b4d5674b82ab2",
   "outputs": [
    {
     "name": "stdout",
     "output_type": "stream",
     "text": [
      "text='아래 질문에 답변해주세요:\\n\\n인프런에는 어떤 강의가 있나요?'\n",
      "-----\n",
      "content='인프런은 다양한 주제의 온라인 강의를 제공하는 플랫폼으로, 주로 프로그래밍, 디자인, 비즈니스, 인문교양 등의 분야에서 다양한 강의를 제공합니다. 주요 강의 카테고리는 다음과 같습니다:\\n\\n1. **프로그래밍**: 웹 개발, 모바일 개발, 데이터 사이언스, 인공지능, 머신러닝, 클라우드 컴퓨팅 등 다양한 프로그래밍 주제의 강의가 있습니다. 특히 Python, Java, JavaScript, Ruby 등 다양한 프로그래밍 언어에 대한 강의가 많이 제공됩니다.\\n\\n2. **디자인**: UI/UX 디자인, 그래픽 디자인, 웹 디자인, 모션 그래픽 등 디자인 관련 강의가 있습니다. Adobe Photoshop, Illustrator, After Effects 등의 도구 사용법을 배울 수 있는 강의도 많습니다.\\n\\n3. **비즈니스**: 마케팅, 재무, 인사, 경영 전략 등 비즈니스 관련 주제의 강의가 있습니다. 스타트업, 기업가 정신, 리더십 등의 주제도 다룹니다.\\n\\n4. **인문교양**: 철학, 역사, 문학, 심리학 등 인문교양 분야의 강의가 있습니다. 또한, 소프트 스킬, 커뮤니케이션, 자기계발 등의 주제도 다룹니다.\\n\\n인프런에서는 실무적인 지식과 기술을 배울 수 있는 실용적인 강의들이 많이 제공되며, 각 분야의 전문가들이 강의를 진행합니다. 사용자는 자신의 관심사와 필요에 따라 적합한 강의를 선택할 수 있습니다.' additional_kwargs={'refusal': None} response_metadata={'token_usage': {'completion_tokens': 282, 'prompt_tokens': 26, 'total_tokens': 308, 'completion_tokens_details': {'accepted_prediction_tokens': 0, 'audio_tokens': 0, 'reasoning_tokens': 0, 'rejected_prediction_tokens': 0}, 'prompt_tokens_details': {'audio_tokens': 0, 'cached_tokens': 0}}, 'model_name': 'solar-mini-250422', 'system_fingerprint': None, 'id': '84bac85b-6306-4083-a6f3-fe6372564ed2', 'service_tier': None, 'finish_reason': 'stop', 'logprobs': None} id='run--23cef971-3e22-420a-940e-e3963c1fa94b-0' usage_metadata={'input_tokens': 26, 'output_tokens': 282, 'total_tokens': 308, 'input_token_details': {'audio': 0, 'cache_read': 0}, 'output_token_details': {'audio': 0, 'reasoning': 0}}\n"
     ]
    }
   ],
   "execution_count": 10
  },
  {
   "metadata": {
    "ExecuteTime": {
     "end_time": "2025-09-29T22:14:24.283822Z",
     "start_time": "2025-09-29T22:14:21.739424Z"
    }
   },
   "cell_type": "code",
   "source": [
    "prompt_chain = prompt_template | llm\n",
    "prompt_chain.invoke({'question': question})"
   ],
   "id": "ea717ce0cfd6ced2",
   "outputs": [
    {
     "data": {
      "text/plain": [
       "AIMessage(content='인프런은 다양한 분야의 온라인 강의를 제공하는 플랫폼입니다. 주요 강의 카테고리는 다음과 같습니다:\\n\\n1. **프로그래밍**: 웹 개발, 모바일 개발, 게임 개발, 시스템 프로그래밍, 인공지능, 머신러닝, 데이터 과학 등 다양한 프로그래밍 언어와 프레임워크에 대한 강의가 있습니다.\\n\\n2. **디자인**: 그래픽 디자인, UX/UI 디자인, 웹 디자인, 모션 그래픽, 영상 편집 등 시각적 디자인 관련 강의가 제공됩니다.\\n\\n3. **비즈니스**: 마케팅, 경영, 재무, 법률, 창업 등 비즈니스 관련 주제의 강의가 있습니다.\\n\\n4. **인문교양**: 역사, 철학, 문학, 심리학 등 인문학 분야의 강의가 있습니다.\\n\\n5. **생활**: 요리, 건강, 운동, 취미 등 생활 관련 주제의 강의가 있습니다.\\n\\n6. **기타**: 외국어, 수학, 과학, 음악 등 다양한 분야의 강의가 있습니다.\\n\\n이 외에도 많은 전문가들이 직접 제작한 강의들이 있으며, 사용자들의 필요에 맞게 다양한 주제의 강의가 지속적으로 추가되고 있습니다. 인프런 웹사이트나 앱을 통해 더 자세한 정보를 확인하실 수 있습니다.', additional_kwargs={'refusal': None}, response_metadata={'token_usage': {'completion_tokens': 242, 'prompt_tokens': 26, 'total_tokens': 268, 'completion_tokens_details': {'accepted_prediction_tokens': 0, 'audio_tokens': 0, 'reasoning_tokens': 0, 'rejected_prediction_tokens': 0}, 'prompt_tokens_details': {'audio_tokens': 0, 'cached_tokens': 0}}, 'model_name': 'solar-mini-250422', 'system_fingerprint': None, 'id': '4f41f218-c3e0-447b-9d0a-6bf283ef8b1f', 'service_tier': None, 'finish_reason': 'stop', 'logprobs': None}, id='run--473c63ea-c489-458d-8071-bfccf82f084a-0', usage_metadata={'input_tokens': 26, 'output_tokens': 242, 'total_tokens': 268, 'input_token_details': {'audio': 0, 'cache_read': 0}, 'output_token_details': {'audio': 0, 'reasoning': 0}})"
      ]
     },
     "execution_count": 11,
     "metadata": {},
     "output_type": "execute_result"
    }
   ],
   "execution_count": 11
  },
  {
   "metadata": {
    "ExecuteTime": {
     "end_time": "2025-09-29T22:15:39.488571Z",
     "start_time": "2025-09-29T22:15:39.389751Z"
    }
   },
   "cell_type": "code",
   "source": [
    "from langchain_community.document_loaders import WebBaseLoader\n",
    "\n",
    "loader = WebBaseLoader('https://www.inflearn.com/courses/it-programming?isDiscounted=false&types=&sort=')"
   ],
   "id": "d3bb64934e27b620",
   "outputs": [
    {
     "name": "stderr",
     "output_type": "stream",
     "text": [
      "USER_AGENT environment variable not set, consider setting it to identify your requests.\n"
     ]
    }
   ],
   "execution_count": 12
  },
  {
   "metadata": {
    "ExecuteTime": {
     "end_time": "2025-09-29T22:15:54.482936Z",
     "start_time": "2025-09-29T22:15:54.259876Z"
    }
   },
   "cell_type": "code",
   "source": [
    "from langchain_text_splitters import RecursiveCharacterTextSplitter\n",
    "\n",
    "text_splitter = RecursiveCharacterTextSplitter(\n",
    "    chunk_size=1500,\n",
    "    chunk_overlap=200,\n",
    ")\n",
    "document_list = loader.load_and_split(text_splitter)"
   ],
   "id": "eb508caf87c48565",
   "outputs": [],
   "execution_count": 13
  },
  {
   "metadata": {
    "ExecuteTime": {
     "end_time": "2025-09-29T22:16:44.176348Z",
     "start_time": "2025-09-29T22:16:42.579490Z"
    }
   },
   "cell_type": "code",
   "source": [
    "\n",
    "from langchain_chroma import Chroma\n",
    "from langchain_upstage import UpstageEmbeddings\n",
    "\n",
    "embedding = UpstageEmbeddings(model='solar-embedding-1-large')\n",
    "\n",
    "database = Chroma.from_documents(\n",
    "    documents=document_list,\n",
    "    embedding=embedding,\n",
    "    collection_name='inflearn-lectures',\n",
    "    # persist_directory=\"./inflearn-lectures\"\n",
    ")"
   ],
   "id": "feecdfd42d5e4558",
   "outputs": [],
   "execution_count": 14
  },
  {
   "metadata": {
    "ExecuteTime": {
     "end_time": "2025-09-29T22:17:04.727728Z",
     "start_time": "2025-09-29T22:17:03.619084Z"
    }
   },
   "cell_type": "code",
   "source": [
    "retriever = database.as_retriever(search_kwargs={'k': 1})\n",
    "retriever.invoke(question)\n",
    "retrieved_docs = retriever.invoke(question)\n",
    "retrieved_docs"
   ],
   "id": "2b3e19340d6420d5",
   "outputs": [
    {
     "data": {
      "text/plain": [
       "[Document(id='140a9014-3d7f-42a2-9960-dcdb5f62c605', metadata={'language': 'ko', 'description': '프로그래밍, 인공지능, 데이터, 마케팅, 디자인등 입문부터 실전까지 업계 최고 선배들에게 배울 수 있는 곳.', 'source': 'https://www.inflearn.com/courses/it-programming?isDiscounted=false&types=&sort=', 'title': '인프런 - 라이프타임 커리어 플랫폼'}, page_content='인프런 - 라이프타임 커리어 플랫폼N인프런 - 라이프타임 커리어 플랫폼')]"
      ]
     },
     "execution_count": 15,
     "metadata": {},
     "output_type": "execute_result"
    }
   ],
   "execution_count": 15
  },
  {
   "metadata": {
    "ExecuteTime": {
     "end_time": "2025-09-29T22:18:13.352481Z",
     "start_time": "2025-09-29T22:18:12.074128Z"
    }
   },
   "cell_type": "code",
   "source": [
    "rag_prompt_template = PromptTemplate(\n",
    "    template='''\n",
    "    You are a helpful assistant that can answer questions about the Inflearn website.\n",
    "    You are given the following context:\n",
    "    {context}\n",
    "    Question: {question}\n",
    "    ''',\n",
    "    input_variables=[\"context\", \"question\"]\n",
    ")\n",
    "rag_chain = rag_prompt_template | llm\n",
    "rag_chain.invoke({\"context\": retrieved_docs, \"question\": question})"
   ],
   "id": "32f3b3a5c57726a7",
   "outputs": [
    {
     "data": {
      "text/plain": [
       "AIMessage(content='인프런에는 프로그래밍, 인공지능, 데이터, 마케팅, 디자인 등 다양한 분야의 강의가 있습니다. 입문부터 실전까지 업계 최고 선배들이 진행하는 강의를 통해 학습할 수 있습니다. 구체적인 강의 목록은 인프런 웹사이트의 해당 카테고리에서 확인하실 수 있습니다.', additional_kwargs={'refusal': None}, response_metadata={'token_usage': {'completion_tokens': 59, 'prompt_tokens': 204, 'total_tokens': 263, 'completion_tokens_details': {'accepted_prediction_tokens': 0, 'audio_tokens': 0, 'reasoning_tokens': 0, 'rejected_prediction_tokens': 0}, 'prompt_tokens_details': {'audio_tokens': 0, 'cached_tokens': 0}}, 'model_name': 'solar-mini-250422', 'system_fingerprint': None, 'id': 'c9b30885-6242-4424-a2f6-992f5b2c9e4f', 'service_tier': None, 'finish_reason': 'stop', 'logprobs': None}, id='run--02f57f0e-f274-402c-9ae8-d01fa5188ced-0', usage_metadata={'input_tokens': 204, 'output_tokens': 59, 'total_tokens': 263, 'input_token_details': {'audio': 0, 'cache_read': 0}, 'output_token_details': {'audio': 0, 'reasoning': 0}})"
      ]
     },
     "execution_count": 16,
     "metadata": {},
     "output_type": "execute_result"
    }
   ],
   "execution_count": 16
  },
  {
   "metadata": {
    "ExecuteTime": {
     "end_time": "2025-09-29T22:18:34.347599Z",
     "start_time": "2025-09-29T22:18:34.041206Z"
    }
   },
   "cell_type": "code",
   "source": [
    "from langchain import hub\n",
    "rlm_rag_prompt = hub.pull(\"rlm/rag-prompt\")"
   ],
   "id": "e01c93f327a84ab0",
   "outputs": [],
   "execution_count": 17
  },
  {
   "metadata": {
    "ExecuteTime": {
     "end_time": "2025-09-29T22:19:03.733397Z",
     "start_time": "2025-09-29T22:19:02.981361Z"
    }
   },
   "cell_type": "code",
   "source": [
    "rlm_rag_chain = rlm_rag_prompt | llm\n",
    "rlm_rag_chain.invoke({\"context\": retrieved_docs, \"question\": question})"
   ],
   "id": "995b2073e8a40a1e",
   "outputs": [
    {
     "data": {
      "text/plain": [
       "AIMessage(content='인프런에는 프로그래밍, 인공지능, 데이터, 마케팅, 디자인 등 다양한 주제의 강의가 있습니다. 입문부터 실전까지 업계 최고 선배들이 진행하는 강의를 수강할 수 있습니다.', additional_kwargs={'refusal': None}, response_metadata={'token_usage': {'completion_tokens': 41, 'prompt_tokens': 236, 'total_tokens': 277, 'completion_tokens_details': {'accepted_prediction_tokens': 0, 'audio_tokens': 0, 'reasoning_tokens': 0, 'rejected_prediction_tokens': 0}, 'prompt_tokens_details': {'audio_tokens': 0, 'cached_tokens': 0}}, 'model_name': 'solar-mini-250422', 'system_fingerprint': None, 'id': 'eda66214-1cc5-4e93-8a29-2c8272ef89a1', 'service_tier': None, 'finish_reason': 'stop', 'logprobs': None}, id='run--61382ab3-4cdf-410a-9454-fb67bc837010-0', usage_metadata={'input_tokens': 236, 'output_tokens': 41, 'total_tokens': 277, 'input_token_details': {'audio': 0, 'cache_read': 0}, 'output_token_details': {'audio': 0, 'reasoning': 0}})"
      ]
     },
     "execution_count": 18,
     "metadata": {},
     "output_type": "execute_result"
    }
   ],
   "execution_count": 18
  },
  {
   "metadata": {
    "ExecuteTime": {
     "end_time": "2025-09-29T22:19:39.575063Z",
     "start_time": "2025-09-29T22:19:37.989548Z"
    }
   },
   "cell_type": "code",
   "source": [
    "\n",
    "from langchain_core.runnables import RunnablePassthrough\n",
    "\n",
    "rag_chain = (\n",
    "    {\"context\": retriever, \"question\": RunnablePassthrough()}\n",
    "    | rlm_rag_prompt\n",
    "    | llm\n",
    ")\n",
    "rag_chain.invoke(question)"
   ],
   "id": "b5e59e55d944dce3",
   "outputs": [
    {
     "data": {
      "text/plain": [
       "AIMessage(content='인프런에는 프로그래밍, 인공지능, 데이터, 마케팅, 디자인 관련 강의가 있습니다. 입문부터 실전까지 업계 최고 선배들이 진행하는 강의를 수강할 수 있습니다.', additional_kwargs={'refusal': None}, response_metadata={'token_usage': {'completion_tokens': 38, 'prompt_tokens': 236, 'total_tokens': 274, 'completion_tokens_details': {'accepted_prediction_tokens': 0, 'audio_tokens': 0, 'reasoning_tokens': 0, 'rejected_prediction_tokens': 0}, 'prompt_tokens_details': {'audio_tokens': 0, 'cached_tokens': 0}}, 'model_name': 'solar-mini-250422', 'system_fingerprint': None, 'id': '81d2d111-c46e-4c25-8282-74d378985e95', 'service_tier': None, 'finish_reason': 'stop', 'logprobs': None}, id='run--a576efd7-f97a-448b-9f8f-42ccb8aee7bb-0', usage_metadata={'input_tokens': 236, 'output_tokens': 38, 'total_tokens': 274, 'input_token_details': {'audio': 0, 'cache_read': 0}, 'output_token_details': {'audio': 0, 'reasoning': 0}})"
      ]
     },
     "execution_count": 19,
     "metadata": {},
     "output_type": "execute_result"
    }
   ],
   "execution_count": 19
  },
  {
   "metadata": {},
   "cell_type": "code",
   "outputs": [],
   "execution_count": null,
   "source": "",
   "id": "4097e43ddd7a0fb0"
  }
 ],
 "metadata": {
  "kernelspec": {
   "display_name": "Python 3",
   "language": "python",
   "name": "python3"
  },
  "language_info": {
   "codemirror_mode": {
    "name": "ipython",
    "version": 2
   },
   "file_extension": ".py",
   "mimetype": "text/x-python",
   "name": "python",
   "nbconvert_exporter": "python",
   "pygments_lexer": "ipython2",
   "version": "2.7.6"
  }
 },
 "nbformat": 4,
 "nbformat_minor": 5
}
