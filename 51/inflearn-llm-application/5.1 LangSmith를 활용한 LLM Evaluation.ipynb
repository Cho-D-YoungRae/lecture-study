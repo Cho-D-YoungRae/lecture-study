{
 "cells": [
  {
   "metadata": {},
   "cell_type": "markdown",
   "source": [
    "## LLM Evaluation 의 중요성\n",
    "\n",
    "서비스를 안정적으로 운영하기 위해서\n",
    "\n",
    "> 사용자가 정확한 정보를 받을 수 있는지\n",
    "\n",
    "\"할루시네이션\" -> 환각\n",
    "\n",
    "> LLM이 잘못된 답변을 생성하는 경우\n",
    "\n",
    "## Dataset: 도메인 전문가가 작성한 \"정답지\"\n",
    "\n",
    "특정 질문이 들어오면 -> 이런 답변을 해야한다.\n",
    "\n",
    "## 점수가 낮은 이유?\n",
    "\n",
    "1. ChatGPT가 작성한 질문 답변 -> 도메인 전문가가 아님 -> 정답지가 틀렸을 수도\n",
    "2. 임베딩 문제. 임베딩 효율이 떨어져서 -> retrieval된 문서가 잘못돼서 -> 답변이 잘못되는 경우"
   ],
   "id": "85d66d277541f417"
  },
  {
   "metadata": {},
   "cell_type": "code",
   "outputs": [],
   "execution_count": null,
   "source": "",
   "id": "c3b978158800fe46"
  },
  {
   "cell_type": "code",
   "execution_count": null,
   "id": "initial_id",
   "metadata": {
    "collapsed": true
   },
   "outputs": [],
   "source": ""
  }
 ],
 "metadata": {
  "kernelspec": {
   "display_name": "Python 3",
   "language": "python",
   "name": "python3"
  },
  "language_info": {
   "codemirror_mode": {
    "name": "ipython",
    "version": 2
   },
   "file_extension": ".py",
   "mimetype": "text/x-python",
   "name": "python",
   "nbconvert_exporter": "python",
   "pygments_lexer": "ipython2",
   "version": "2.7.6"
  }
 },
 "nbformat": 4,
 "nbformat_minor": 5
}
